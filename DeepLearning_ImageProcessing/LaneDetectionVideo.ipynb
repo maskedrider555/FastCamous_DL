{
  "cells": [
    {
      "cell_type": "code",
      "execution_count": 11,
      "metadata": {
        "id": "xLzHAWAyFFTa"
      },
      "outputs": [],
      "source": [
        "import cv2\n",
        "import numpy as np\n",
        "import math\n",
        "import matplotlib.pyplot as plt\n",
        "import IPython\n",
        "\n",
        "def cv2_imshow(img):\n",
        "    rgb_img = cv2.cvtColor(img, cv2.COLOR_BGR2RGB)\n",
        "    fig = plt.figure(figsize=(20,10))\n",
        "    plt.imshow(rgb_img)\n",
        "    plt.show()"
      ]
    },
    {
      "cell_type": "code",
      "execution_count": 15,
      "metadata": {},
      "outputs": [],
      "source": [
        "def DetectAndDisplay(frame):\n",
        "    IPython.display.clear_output(wait=True)\n",
        "    # Convert Image To GrayScale\n",
        "    gray = cv2.cvtColor(frame, cv2.COLOR_RGB2GRAY)\n",
        "    height, width = gray.shape\n",
        "    # GaussianBlur for refusing noise\n",
        "    blur = cv2.GaussianBlur(gray, (5, 5), 0)\n",
        "    # Canny Edge Detection\n",
        "    canny = cv2.Canny(blur, 30, 130)\n",
        "    # Mask\n",
        "    mask = np.zeros((height, width), dtype='uint8')\n",
        "    polyHeight = int(0.60 * height)\n",
        "    polyLeft = int(0.47 * width)\n",
        "    polyRight = int (0.53 * width)\n",
        "    polygons = np.array([[(0, height), (polyLeft, polyHeight), (polyRight, polyHeight), (width, height)]])\n",
        "    cv2.fillPoly(mask, polygons, 255)\n",
        "    # Bitwise Operation Between Img And Mask\n",
        "    masked = cv2.bitwise_and(canny, mask)\n",
        "    # Lane Detection\n",
        "    lines = cv2.HoughLinesP(masked, 2, np.pi / 180, 20, 20, 10)\n",
        "    if (lines is not None):\n",
        "        for line in lines:\n",
        "            x1, y1, x2, y2 = line.reshape(4)\n",
        "            cv2.line(frame, (x1, y1), (x2, y2), (0, 255, 0), 5)\n",
        "    # cv2_imshow(frame)\n",
        "    cv2.imshow(\"frame\", frame) \n",
        "    cv2.waitKey(10) \n",
        "    \n"
      ]
    },
    {
      "cell_type": "code",
      "execution_count": 16,
      "metadata": {},
      "outputs": [],
      "source": [
        "cap = cv2.VideoCapture('./Images/test_video.mp4')\n",
        "if not cap.isOpened:\n",
        "    print(\"Erro Open VideoCapture\")\n",
        "    exit(0)\n",
        "try :\n",
        "    while True:\n",
        "        ref, frame = cap.read()\n",
        "        if frame is None:\n",
        "            cv2.destroyAllWindows()\n",
        "            print(\"No captured frame --Break\")\n",
        "            break\n",
        "        DetectAndDisplay(frame)\n",
        "        if cv2.waitKey(1) == 27:\n",
        "            cap.release()\n",
        "            cv2.destroyAllWindows()\n",
        "            break\n",
        "        \n",
        "except KeyboardInterrupt:\n",
        "    print(\"KeyboardInterrupt\")"
      ]
    },
    {
      "cell_type": "code",
      "execution_count": null,
      "metadata": {},
      "outputs": [],
      "source": []
    }
  ],
  "metadata": {
    "colab": {
      "collapsed_sections": [],
      "name": "yolo.ipynb",
      "provenance": []
    },
    "kernelspec": {
      "display_name": "Python 3",
      "name": "python3"
    },
    "language_info": {
      "codemirror_mode": {
        "name": "ipython",
        "version": 3
      },
      "file_extension": ".py",
      "mimetype": "text/x-python",
      "name": "python",
      "nbconvert_exporter": "python",
      "pygments_lexer": "ipython3",
      "version": "3.8.12"
    }
  },
  "nbformat": 4,
  "nbformat_minor": 0
}
