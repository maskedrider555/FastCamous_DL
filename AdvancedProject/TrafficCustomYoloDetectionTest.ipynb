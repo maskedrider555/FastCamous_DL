{
  "nbformat": 4,
  "nbformat_minor": 0,
  "metadata": {
    "colab": {
      "name": "TrafficCustomYoloDetectionTest.ipynb",
      "provenance": [],
      "collapsed_sections": []
    },
    "kernelspec": {
      "name": "python3",
      "display_name": "Python 3"
    },
    "language_info": {
      "name": "python"
    },
    "accelerator": "GPU"
  },
  "cells": [
    {
      "cell_type": "markdown",
      "metadata": {
        "id": "Wn8OHbFkWR3-"
      },
      "source": [
        "#1. Mount Drive"
      ]
    },
    {
      "cell_type": "code",
      "source": [
        "from google.colab import drive\n",
        "drive.mount('/gdrive')"
      ],
      "metadata": {
        "colab": {
          "base_uri": "https://localhost:8080/"
        },
        "id": "lZj6PI1n7cIr",
        "outputId": "38110313-bf4b-4f4c-d0fd-b1dda248bd11"
      },
      "execution_count": 37,
      "outputs": [
        {
          "output_type": "stream",
          "name": "stdout",
          "text": [
            "Drive already mounted at /gdrive; to attempt to forcibly remount, call drive.mount(\"/gdrive\", force_remount=True).\n"
          ]
        }
      ]
    },
    {
      "cell_type": "code",
      "source": [
        "!cp -r /gdrive/MyDrive/Darknet/Custom/Traffic/ ."
      ],
      "metadata": {
        "id": "-0PXjhf8WCkN"
      },
      "execution_count": 38,
      "outputs": []
    },
    {
      "cell_type": "code",
      "source": [
        "!ls -al ./trafficsign"
      ],
      "metadata": {
        "colab": {
          "base_uri": "https://localhost:8080/"
        },
        "id": "cpKo76PnXKBz",
        "outputId": "1d3fb725-6615-45ba-8506-75db0ad05c58"
      },
      "execution_count": 39,
      "outputs": [
        {
          "output_type": "stream",
          "name": "stdout",
          "text": [
            "ls: cannot access './trafficsign': No such file or directory\n"
          ]
        }
      ]
    },
    {
      "cell_type": "code",
      "source": [
        "weight_file = './Traffic/traffic-train-yolo_final.weights'\n",
        "cfg_file = './Traffic/traffic-train-yolo.cfg'\n",
        "name_file = './Traffic/classes.names'\n",
        "\n",
        "min_confidence = 0.5"
      ],
      "metadata": {
        "id": "l6u2JxH7XKEX"
      },
      "execution_count": 40,
      "outputs": []
    },
    {
      "cell_type": "code",
      "source": [
        "import cv2\n",
        "import numpy as np\n",
        "from google.colab.patches import cv2_imshow"
      ],
      "metadata": {
        "id": "kVlOPZZFXKHF"
      },
      "execution_count": 41,
      "outputs": []
    },
    {
      "cell_type": "code",
      "source": [
        "# Load Yolo\n",
        "net = cv2.dnn.readNet(weight_file, cfg_file)\n",
        "\n",
        "layer_names = net.getLayerNames()\n",
        "output_layers = [layer_names[i[0] - 1] for i in net.getUnconnectedOutLayers()]"
      ],
      "metadata": {
        "id": "fEFAb3upX6Mr"
      },
      "execution_count": 42,
      "outputs": []
    },
    {
      "cell_type": "code",
      "source": [
        "classes = []\n",
        "with open(name_file, 'r') as f:\n",
        "    classes = [line.strip() for line in f.readlines()]\n",
        "print(classes)"
      ],
      "metadata": {
        "colab": {
          "base_uri": "https://localhost:8080/"
        },
        "id": "VuCMNad9Yjs-",
        "outputId": "843fd61b-cac3-45a7-c42d-9c7075e6f042"
      },
      "execution_count": 43,
      "outputs": [
        {
          "output_type": "stream",
          "name": "stdout",
          "text": [
            "['Prohibitory', 'Danger', 'Mandatory', 'Other']\n"
          ]
        }
      ]
    },
    {
      "cell_type": "code",
      "source": [
        "frame_count = 0\n",
        "writer = None\n",
        "input_name = './Traffic/traffic-sign-video.mp4'\n",
        "output_name = 'traffic-sign-video.avi'\n",
        "#file_name = './Traffic/00000.ppm' \n",
        "file_name = './Traffic/00000.png'\n",
        "\n"
      ],
      "metadata": {
        "id": "V5L48LPGaN1_"
      },
      "execution_count": 47,
      "outputs": []
    },
    {
      "cell_type": "code",
      "source": [
        "# img = cv2.imread(file_name)\n",
        "# height, width, channels = img.shape\n",
        "# cv2_imshow(img)\n",
        "# print(height, width)\n",
        "\n",
        "# 훈련한 모델이 Recognition Model 이기 때문에 Detection 은 안된다!"
      ],
      "metadata": {
        "colab": {
          "base_uri": "https://localhost:8080/",
          "height": 89
        },
        "id": "-cZSn8Aya6Xa",
        "outputId": "1e4f250f-1864-497b-dd43-92d17fdf466a"
      },
      "execution_count": 48,
      "outputs": [
        {
          "output_type": "display_data",
          "data": {
            "text/plain": [
              "<PIL.Image.Image image mode=RGB size=53x54 at 0x7F8A8B4FE8D0>"
            ],
            "image/png": "[encoded data removed]"
          },
          "metadata": {}
        },
        {
          "output_type": "stream",
          "name": "stdout",
          "text": [
            "54 53\n"
          ]
        }
      ]
    },
    {
      "cell_type": "code",
      "source": [
        "img = cv2.imread(file_name)\n",
        "height, width, channels = img.shape\n",
        "# Detecting objects\n",
        "# https://docs.opencv.org/master/d6/d0f/group__dnn.html\n",
        "blob = cv2.dnn.blobFromImage(img, 0.00392, (416, 416), (0, 0, 0), True, crop=False)\n",
        "\n",
        "net.setInput(blob)\n",
        "outs = net.forward(output_layers)\n",
        "\n",
        "class_ids = []\n",
        "confidences = []\n",
        "boxes = []\n",
        "\n",
        "for out in outs:\n",
        "    for detection in out:\n",
        "        scores = detection[5:]\n",
        "        class_id = np.argmax(scores)\n",
        "        confidence = scores[class_id]\n",
        "        if confidence > min_confidence:\n",
        "            # Object detected\n",
        "            center_x = int(detection[0] * width)\n",
        "            center_y = int(detection[1] * height)\n",
        "            w = int(detection[2] * width)\n",
        "            h = int(detection[3] * height)\n",
        "\n",
        "            # Rectangle coordinates\n",
        "            x = int(center_x - w / 2)\n",
        "            y = int(center_y - h / 2)\n",
        "\n",
        "            boxes.append([x, y, w, h])\n",
        "            confidences.append(float(confidence))\n",
        "            class_ids.append(class_id)\n",
        "\n",
        "indexes = cv2.dnn.NMSBoxes(boxes, confidences, min_confidence, 0.4)\n",
        "font = cv2.FONT_HERSHEY_COMPLEX\n",
        "for i in range(len(boxes)):\n",
        "    if i in indexes:\n",
        "        x, y, w, h = boxes[i]\n",
        "        label = str(classes[class_ids[i]])\n",
        "        print(class_ids[i], label)\n",
        "        cv2.rectangle(img, (x, y), (x + w, y + h), (0, 255, 0), 2)\n",
        "        cv2.putText(img, label, (x, y - 10), font, 0.5, (0, 255, 0), 1)  \n",
        "\n",
        "cv2_imshow(img)  "
      ],
      "metadata": {
        "colab": {
          "base_uri": "https://localhost:8080/",
          "height": 89
        },
        "id": "_kz87WiPX6PW",
        "outputId": "f1f8865d-08ad-41f4-8f62-91fd27aafded"
      },
      "execution_count": 49,
      "outputs": [
        {
          "output_type": "stream",
          "name": "stdout",
          "text": [
            "0 Prohibitory\n"
          ]
        },
        {
          "output_type": "display_data",
          "data": {
            "text/plain": [
              "<PIL.Image.Image image mode=RGB size=53x54 at 0x7F8A94E67BD0>"
            ],
            "image/png": "[encoded data removed]"
          },
          "metadata": {}
        }
      ]
    },
    {
      "cell_type": "code",
      "source": [
        ""
      ],
      "metadata": {
        "id": "8EaGp0RPX6SD"
      },
      "execution_count": 46,
      "outputs": []
    },
    {
      "cell_type": "code",
      "source": [
        ""
      ],
      "metadata": {
        "id": "kQ8EDQOEHVSF"
      },
      "execution_count": null,
      "outputs": []
    }
  ]
}