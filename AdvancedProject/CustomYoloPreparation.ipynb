{
  "cells": [
    {
      "cell_type": "code",
      "execution_count": 1,
      "metadata": {
        "id": "xLzHAWAyFFTa"
      },
      "outputs": [],
      "source": [
        "import cv2\n",
        "import numpy as np"
      ]
    },
    {
      "cell_type": "markdown",
      "metadata": {},
      "source": [
        "# 1. Generate Files"
      ]
    },
    {
      "cell_type": "code",
      "execution_count": 2,
      "metadata": {},
      "outputs": [
        {
          "name": "stdout",
          "output_type": "stream",
          "text": [
            "c:\\DL\\FastCampus\\AdvancedProject\n"
          ]
        }
      ],
      "source": [
        "import os \n",
        "print(os.path.abspath(os.curdir))"
      ]
    },
    {
      "cell_type": "code",
      "execution_count": 3,
      "metadata": {},
      "outputs": [
        {
          "name": "stdout",
          "output_type": "stream",
          "text": [
            "C:/DL/FastCampus/advancedProject/FruitSample\n"
          ]
        }
      ],
      "source": [
        "PROJECT_PATH = 'C:/DL/FastCampus/advancedProject'\n",
        "YOLO_IMAGE_PATH = PROJECT_PATH + \"/FruitSample\"\n",
        "YOLO_FORMAT_PATH =PROJECT_PATH + \"/FruitSample\"\n",
        "print(YOLO_FORMAT_PATH)\n"
      ]
    },
    {
      "cell_type": "code",
      "execution_count": 4,
      "metadata": {},
      "outputs": [],
      "source": [
        "classCount = 0\n",
        "testPecentage = 0.2\n",
        "paths = []"
      ]
    },
    {
      "cell_type": "code",
      "execution_count": 5,
      "metadata": {},
      "outputs": [
        {
          "name": "stdout",
          "output_type": "stream",
          "text": [
            "classes.names is created\n"
          ]
        }
      ],
      "source": [
        "with open(YOLO_FORMAT_PATH + '/' + 'classes.name', 'w') as names, \\\n",
        "    open(YOLO_FORMAT_PATH + '/' + 'classes.txt', 'r') as txt:\n",
        "        for line in txt :\n",
        "            names.write(line)\n",
        "            classCount += 1\n",
        "        print(\"classes.names is created\")"
      ]
    },
    {
      "cell_type": "code",
      "execution_count": 6,
      "metadata": {},
      "outputs": [
        {
          "name": "stdout",
          "output_type": "stream",
          "text": [
            "custom_data.data is created\n"
          ]
        }
      ],
      "source": [
        "with open(YOLO_FORMAT_PATH + '/' + 'custom_data.data', 'w') as data:\n",
        "    data.write('classes = ' + str(classCount) + '\\n')\n",
        "    data.write('train = ' + YOLO_FORMAT_PATH + '/' + 'train.txt' + '\\n')\n",
        "    data.write('valid = ' + YOLO_FORMAT_PATH + '/' + 'test.txt' +  '\\n')\n",
        "    data.write('name = ' + YOLO_FORMAT_PATH + '/' + 'classes.names' +  '\\n')\n",
        "    data.write('backup = backup')\n",
        "print (\"custom_data.data is created\")\n"
      ]
    },
    {
      "cell_type": "code",
      "execution_count": 7,
      "metadata": {},
      "outputs": [
        {
          "name": "stdout",
          "output_type": "stream",
          "text": [
            "C:\\DL\\FastCampus\\advancedProject\\FruitSample\n"
          ]
        }
      ],
      "source": [
        "os.chdir(YOLO_IMAGE_PATH)\n",
        "currentPath = os.path.abspath(os.curdir)\n",
        "print(currentPath)"
      ]
    },
    {
      "cell_type": "code",
      "execution_count": 8,
      "metadata": {},
      "outputs": [
        {
          "name": "stdout",
          "output_type": "stream",
          "text": [
            "['C:/DL/FastCampus/advancedProject/FruitSample/fruit01.jpg\\n', 'C:/DL/FastCampus/advancedProject/FruitSample/fruit02.jpg\\n', 'C:/DL/FastCampus/advancedProject/FruitSample/fruit03.jpg\\n', 'C:/DL/FastCampus/advancedProject/FruitSample/fruit04.jpg\\n', 'C:/DL/FastCampus/advancedProject/FruitSample/fruit05.jpg\\n', 'C:/DL/FastCampus/advancedProject/FruitSample/fruit06.jpg\\n', 'C:/DL/FastCampus/advancedProject/FruitSample/fruit07.jpg\\n', 'C:/DL/FastCampus/advancedProject/FruitSample/fruit08.jpg\\n', 'C:/DL/FastCampus/advancedProject/FruitSample/fruit09.jpg\\n', 'C:/DL/FastCampus/advancedProject/FruitSample/fruit10.jpg\\n']\n"
          ]
        }
      ],
      "source": [
        "for currentDir, dirs, files in os.walk('.'):\n",
        "    # print(currentDir, dirs, files)\n",
        "    for f in files:\n",
        "        if f.endswith('.jpg'):\n",
        "            # print(f)\n",
        "            imagePath = YOLO_IMAGE_PATH + '/' + f\n",
        "            # print(imagePath)\n",
        "            paths.append(imagePath + '\\n')\n",
        "print(paths)"
      ]
    },
    {
      "cell_type": "code",
      "execution_count": 9,
      "metadata": {},
      "outputs": [
        {
          "name": "stdout",
          "output_type": "stream",
          "text": [
            "2\n"
          ]
        }
      ],
      "source": [
        "num_test = int(len(paths) * testPecentage)\n",
        "print(num_test)"
      ]
    },
    {
      "cell_type": "code",
      "execution_count": 10,
      "metadata": {},
      "outputs": [],
      "source": [
        "paths_test = paths[:num_test]\n",
        "paths_train = paths[num_test:]"
      ]
    },
    {
      "cell_type": "code",
      "execution_count": 11,
      "metadata": {},
      "outputs": [
        {
          "name": "stdout",
          "output_type": "stream",
          "text": [
            "train.txt is created\n"
          ]
        }
      ],
      "source": [
        "with open(YOLO_FORMAT_PATH + '/' + 'train.txt', 'w') as trainTxt:\n",
        "    for path in paths_train:\n",
        "        trainTxt.write(path)\n",
        "print(\"train.txt is created\")\n",
        "    "
      ]
    },
    {
      "cell_type": "code",
      "execution_count": 12,
      "metadata": {},
      "outputs": [
        {
          "name": "stdout",
          "output_type": "stream",
          "text": [
            "test.txt is created\n"
          ]
        }
      ],
      "source": [
        "with open(YOLO_FORMAT_PATH + '/' + 'test.txt', 'w') as testTxt:\n",
        "    for path in paths_test:\n",
        "        testTxt.write(path)\n",
        "print(\"test.txt is created\")"
      ]
    },
    {
      "cell_type": "code",
      "execution_count": 13,
      "metadata": {},
      "outputs": [
        {
          "data": {
            "text/plain": [
              "'Windows-10-10.0.19044-SP0'"
            ]
          },
          "execution_count": 13,
          "metadata": {},
          "output_type": "execute_result"
        }
      ],
      "source": [
        "import platform\n",
        "platform.platform()"
      ]
    },
    {
      "cell_type": "code",
      "execution_count": null,
      "metadata": {},
      "outputs": [],
      "source": []
    }
  ],
  "metadata": {
    "colab": {
      "collapsed_sections": [],
      "name": "yolo.ipynb",
      "provenance": []
    },
    "interpreter": {
      "hash": "fb9aebd65251284bba14c8fe4cfc3dbe07a569e6b51b6bbc808e58c6e629138e"
    },
    "kernelspec": {
      "display_name": "Python 3.8.12 ('DL')",
      "language": "python",
      "name": "python3"
    },
    "language_info": {
      "codemirror_mode": {
        "name": "ipython",
        "version": 3
      },
      "file_extension": ".py",
      "mimetype": "text/x-python",
      "name": "python",
      "nbconvert_exporter": "python",
      "pygments_lexer": "ipython3",
      "version": "3.8.12"
    }
  },
  "nbformat": 4,
  "nbformat_minor": 0
}
