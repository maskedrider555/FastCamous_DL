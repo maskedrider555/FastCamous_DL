{
 "cells": [
  {
   "cell_type": "markdown",
   "id": "eb0de0ba",
   "metadata": {},
   "source": [
    "# 2. Load Data"
   ]
  },
  {
   "cell_type": "code",
   "execution_count": 1,
   "id": "516c63f4",
   "metadata": {},
   "outputs": [],
   "source": [
    "import pandas as pd\n",
    "import matplotlib.pyplot as plt\n",
    "import seaborn as sns"
   ]
  },
  {
   "cell_type": "code",
   "execution_count": 2,
   "id": "da1fdfd6",
   "metadata": {},
   "outputs": [
    {
     "name": "stdout",
     "output_type": "stream",
     "text": [
      "<class 'pandas.core.frame.DataFrame'>\n",
      "RangeIndex: 154110 entries, 0 to 154109\n",
      "Data columns (total 6 columns):\n",
      " #   Column   Non-Null Count   Dtype\n",
      "---  ------   --------------   -----\n",
      " 0   집계일자     154110 non-null  int64\n",
      " 1   집계시      154110 non-null  int64\n",
      " 2   출발영업소코드  154110 non-null  int64\n",
      " 3   도착영업소코드  154110 non-null  int64\n",
      " 4   통행시간     154110 non-null  int64\n",
      " 5   요일       154110 non-null  int64\n",
      "dtypes: int64(6)\n",
      "memory usage: 7.1 MB\n"
     ]
    }
   ],
   "source": [
    "file = \"C:\\DL\\FastCampus\\DataAnalysis\\CSV\\data_2021.csv\"\n",
    "data = pd.read_csv(file)\n",
    "data.info()"
   ]
  },
  {
   "cell_type": "markdown",
   "id": "03cd3de0",
   "metadata": {},
   "source": [
    "# 3. 집계시"
   ]
  },
  {
   "cell_type": "code",
   "execution_count": 3,
   "id": "76cc7207",
   "metadata": {},
   "outputs": [
    {
     "name": "stdout",
     "output_type": "stream",
     "text": [
      "<class 'pandas.core.frame.DataFrame'>\n",
      "Int64Index: 115832 entries, 0 to 154109\n",
      "Data columns (total 6 columns):\n",
      " #   Column   Non-Null Count   Dtype\n",
      "---  ------   --------------   -----\n",
      " 0   집계일자     115832 non-null  int64\n",
      " 1   집계시      115832 non-null  int64\n",
      " 2   출발영업소코드  115832 non-null  int64\n",
      " 3   도착영업소코드  115832 non-null  int64\n",
      " 4   통행시간     115832 non-null  int64\n",
      " 5   요일       115832 non-null  int64\n",
      "dtypes: int64(6)\n",
      "memory usage: 6.2 MB\n"
     ]
    }
   ],
   "source": [
    "data_06_22 = data[data.집계시.isin(range(6,23))]\n",
    "data_06_22.info()"
   ]
  },
  {
   "cell_type": "code",
   "execution_count": 4,
   "id": "ce10a7ce",
   "metadata": {},
   "outputs": [
    {
     "data": {
      "text/html": [
       "<div>\n",
       "<style scoped>\n",
       "    .dataframe tbody tr th:only-of-type {\n",
       "        vertical-align: middle;\n",
       "    }\n",
       "\n",
       "    .dataframe tbody tr th {\n",
       "        vertical-align: top;\n",
       "    }\n",
       "\n",
       "    .dataframe thead th {\n",
       "        text-align: right;\n",
       "    }\n",
       "</style>\n",
       "<table border=\"1\" class=\"dataframe\">\n",
       "  <thead>\n",
       "    <tr style=\"text-align: right;\">\n",
       "      <th></th>\n",
       "      <th>집계일자</th>\n",
       "      <th>집계시</th>\n",
       "      <th>출발영업소코드</th>\n",
       "      <th>도착영업소코드</th>\n",
       "      <th>통행시간</th>\n",
       "      <th>요일</th>\n",
       "    </tr>\n",
       "  </thead>\n",
       "  <tbody>\n",
       "    <tr>\n",
       "      <th>84170</th>\n",
       "      <td>20210721</td>\n",
       "      <td>6</td>\n",
       "      <td>101</td>\n",
       "      <td>140</td>\n",
       "      <td>15381</td>\n",
       "      <td>2</td>\n",
       "    </tr>\n",
       "    <tr>\n",
       "      <th>38628</th>\n",
       "      <td>20210406</td>\n",
       "      <td>6</td>\n",
       "      <td>101</td>\n",
       "      <td>105</td>\n",
       "      <td>720</td>\n",
       "      <td>1</td>\n",
       "    </tr>\n",
       "    <tr>\n",
       "      <th>56035</th>\n",
       "      <td>20210512</td>\n",
       "      <td>6</td>\n",
       "      <td>101</td>\n",
       "      <td>105</td>\n",
       "      <td>804</td>\n",
       "      <td>2</td>\n",
       "    </tr>\n",
       "    <tr>\n",
       "      <th>56036</th>\n",
       "      <td>20210512</td>\n",
       "      <td>6</td>\n",
       "      <td>101</td>\n",
       "      <td>105</td>\n",
       "      <td>688</td>\n",
       "      <td>2</td>\n",
       "    </tr>\n",
       "    <tr>\n",
       "      <th>38627</th>\n",
       "      <td>20210406</td>\n",
       "      <td>6</td>\n",
       "      <td>101</td>\n",
       "      <td>105</td>\n",
       "      <td>892</td>\n",
       "      <td>1</td>\n",
       "    </tr>\n",
       "    <tr>\n",
       "      <th>...</th>\n",
       "      <td>...</td>\n",
       "      <td>...</td>\n",
       "      <td>...</td>\n",
       "      <td>...</td>\n",
       "      <td>...</td>\n",
       "      <td>...</td>\n",
       "    </tr>\n",
       "    <tr>\n",
       "      <th>96627</th>\n",
       "      <td>20210819</td>\n",
       "      <td>22</td>\n",
       "      <td>101</td>\n",
       "      <td>120</td>\n",
       "      <td>8836</td>\n",
       "      <td>3</td>\n",
       "    </tr>\n",
       "    <tr>\n",
       "      <th>148322</th>\n",
       "      <td>20211218</td>\n",
       "      <td>22</td>\n",
       "      <td>101</td>\n",
       "      <td>115</td>\n",
       "      <td>5955</td>\n",
       "      <td>5</td>\n",
       "    </tr>\n",
       "    <tr>\n",
       "      <th>148321</th>\n",
       "      <td>20211218</td>\n",
       "      <td>22</td>\n",
       "      <td>101</td>\n",
       "      <td>115</td>\n",
       "      <td>4662</td>\n",
       "      <td>5</td>\n",
       "    </tr>\n",
       "    <tr>\n",
       "      <th>11015</th>\n",
       "      <td>20210128</td>\n",
       "      <td>22</td>\n",
       "      <td>101</td>\n",
       "      <td>115</td>\n",
       "      <td>5424</td>\n",
       "      <td>3</td>\n",
       "    </tr>\n",
       "    <tr>\n",
       "      <th>34728</th>\n",
       "      <td>20210326</td>\n",
       "      <td>22</td>\n",
       "      <td>101</td>\n",
       "      <td>115</td>\n",
       "      <td>6651</td>\n",
       "      <td>4</td>\n",
       "    </tr>\n",
       "  </tbody>\n",
       "</table>\n",
       "<p>115832 rows × 6 columns</p>\n",
       "</div>"
      ],
      "text/plain": [
       "            집계일자  집계시  출발영업소코드  도착영업소코드   통행시간  요일\n",
       "84170   20210721    6      101      140  15381   2\n",
       "38628   20210406    6      101      105    720   1\n",
       "56035   20210512    6      101      105    804   2\n",
       "56036   20210512    6      101      105    688   2\n",
       "38627   20210406    6      101      105    892   1\n",
       "...          ...  ...      ...      ...    ...  ..\n",
       "96627   20210819   22      101      120   8836   3\n",
       "148322  20211218   22      101      115   5955   5\n",
       "148321  20211218   22      101      115   4662   5\n",
       "11015   20210128   22      101      115   5424   3\n",
       "34728   20210326   22      101      115   6651   4\n",
       "\n",
       "[115832 rows x 6 columns]"
      ]
     },
     "execution_count": 4,
     "metadata": {},
     "output_type": "execute_result"
    }
   ],
   "source": [
    "data_06_22.sort_values(by=\"집계시\")"
   ]
  },
  {
   "cell_type": "code",
   "execution_count": 5,
   "id": "3d962005",
   "metadata": {},
   "outputs": [],
   "source": [
    "data_06_22_count = data_06_22[\"집계시\"].value_counts()"
   ]
  },
  {
   "cell_type": "code",
   "execution_count": 6,
   "id": "29886b99",
   "metadata": {},
   "outputs": [
    {
     "data": {
      "text/plain": [
       "9     7116\n",
       "10    7113\n",
       "11    7101\n",
       "12    7098\n",
       "13    7089\n",
       "14    7087\n",
       "15    7012\n",
       "16    6987\n",
       "8     6978\n",
       "17    6903\n",
       "18    6776\n",
       "7     6763\n",
       "19    6659\n",
       "20    6509\n",
       "6     6392\n",
       "21    6255\n",
       "22    5994\n",
       "Name: 집계시, dtype: int64"
      ]
     },
     "execution_count": 6,
     "metadata": {},
     "output_type": "execute_result"
    }
   ],
   "source": [
    "data_06_22_count"
   ]
  },
  {
   "cell_type": "code",
   "execution_count": 8,
   "id": "7d9bf28c",
   "metadata": {},
   "outputs": [
    {
     "name": "stdout",
     "output_type": "stream",
     "text": [
      "6     6392\n",
      "7     6763\n",
      "8     6978\n",
      "9     7116\n",
      "10    7113\n",
      "11    7101\n",
      "12    7098\n",
      "13    7089\n",
      "14    7087\n",
      "15    7012\n",
      "16    6987\n",
      "17    6903\n",
      "18    6776\n",
      "19    6659\n",
      "20    6509\n",
      "21    6255\n",
      "22    5994\n",
      "Name: 집계시, dtype: int64\n"
     ]
    }
   ],
   "source": [
    "data_06_22_count_sort = data_06_22_count.sort_index()\n",
    "print(data_06_22_count_sort)"
   ]
  },
  {
   "cell_type": "code",
   "execution_count": 10,
   "id": "0108acd7",
   "metadata": {},
   "outputs": [
    {
     "name": "stdout",
     "output_type": "stream",
     "text": [
      "Int64Index([6, 7, 8, 9, 10, 11, 12, 13, 14, 15, 16, 17, 18, 19, 20, 21, 22], dtype='int64')\n"
     ]
    }
   ],
   "source": [
    "#storage index of data_06_22_count into x\n",
    "x = data_06_22_count_sort.index\n",
    "print(x)"
   ]
  },
  {
   "cell_type": "code",
   "execution_count": 14,
   "id": "9bd5648c",
   "metadata": {},
   "outputs": [
    {
     "name": "stdout",
     "output_type": "stream",
     "text": [
      "['6시', '7시', '8시', '9시', '10시', '11시', '12시', '13시', '14시', '15시', '16시', '17시', '18시', '19시', '20시', '21시', '22시']\n"
     ]
    }
   ],
   "source": [
    "lables = [str(i) + \"시\" for i in x]\n",
    "print(lables)"
   ]
  },
  {
   "cell_type": "code",
   "execution_count": 11,
   "id": "672125bd",
   "metadata": {},
   "outputs": [
    {
     "name": "stdout",
     "output_type": "stream",
     "text": [
      "[6392 6763 6978 7116 7113 7101 7098 7089 7087 7012 6987 6903 6776 6659\n",
      " 6509 6255 5994]\n"
     ]
    }
   ],
   "source": [
    "#storage value of data_06_22_count into x\n",
    "y = data_06_22_count_sort.values\n",
    "print(y)"
   ]
  },
  {
   "cell_type": "code",
   "execution_count": 12,
   "id": "a5642c1e",
   "metadata": {},
   "outputs": [
    {
     "data": {
      "text/plain": [
       "[<matplotlib.lines.Line2D at 0x13ebfeb6c70>]"
      ]
     },
     "execution_count": 12,
     "metadata": {},
     "output_type": "execute_result"
    },
    {
     "data": {
      "image/png": "[encoded data removed]",
      "text/plain": [
       "<Figure size 432x288 with 1 Axes>"
      ]
     },
     "metadata": {
      "needs_background": "light"
     },
     "output_type": "display_data"
    }
   ],
   "source": [
    "plt.plot(x, y)"
   ]
  },
  {
   "cell_type": "code",
   "execution_count": 16,
   "id": "f4c65ccf",
   "metadata": {},
   "outputs": [
    {
     "name": "stderr",
     "output_type": "stream",
     "text": [
      "C:\\Users\\Jin\\anaconda3\\envs\\DL\\lib\\site-packages\\IPython\\core\\pylabtools.py:151: UserWarning: Glyph 49884 (\\N{HANGUL SYLLABLE SI}) missing from current font.\n",
      "  fig.canvas.print_figure(bytes_io, **kw)\n"
     ]
    },
    {
     "data": {
      "image/png": "[encoded data removed]",
      "text/plain": [
       "<Figure size 1440x720 with 1 Axes>"
      ]
     },
     "metadata": {
      "needs_background": "light"
     },
     "output_type": "display_data"
    }
   ],
   "source": [
    "# Config size\n",
    "plt.figure(figsize=(20,10))\n",
    "plt.plot(lables, y, marker=\"s\", color=\"r\")\n",
    "plt.title(\"Traffic Per Time\", fontsize=18)\n",
    "plt.xlabel(\"Time\", fontdict={\"size\":16})\n",
    "plt.ylabel(\"Traffic\", fontdict={\"size\":16})\n",
    "plt.show()"
   ]
  },
  {
   "cell_type": "markdown",
   "id": "6cacc7ec",
   "metadata": {},
   "source": [
    "# 4. 도착영업소코드"
   ]
  },
  {
   "cell_type": "code",
   "execution_count": 18,
   "id": "bd3164ee",
   "metadata": {},
   "outputs": [],
   "source": [
    "data_destination_count = data['도착영업소코드'].value_counts()"
   ]
  },
  {
   "cell_type": "code",
   "execution_count": 20,
   "id": "c4e7303e",
   "metadata": {},
   "outputs": [
    {
     "name": "stdout",
     "output_type": "stream",
     "text": [
      "105    49653\n",
      "110    37823\n",
      "115    27574\n",
      "120     7193\n",
      "125     7723\n",
      "130     7867\n",
      "135     7612\n",
      "140     8665\n",
      "Name: 도착영업소코드, dtype: int64\n"
     ]
    }
   ],
   "source": [
    "data_destination_count_sort = data_destination_count.sort_index()\n",
    "print(data_destination_count_sort)"
   ]
  },
  {
   "cell_type": "code",
   "execution_count": 23,
   "id": "e759a3b8",
   "metadata": {},
   "outputs": [
    {
     "name": "stdout",
     "output_type": "stream",
     "text": [
      "Int64Index([105, 110, 115, 120, 125, 130, 135, 140], dtype='int64')\n"
     ]
    }
   ],
   "source": [
    "# Store index of data_06_22_count into x\n",
    "x = data_destination_count_sort.index\n",
    "print(x)"
   ]
  },
  {
   "cell_type": "code",
   "execution_count": 24,
   "id": "f3f68b94",
   "metadata": {},
   "outputs": [
    {
     "name": "stdout",
     "output_type": "stream",
     "text": [
      "['105', '110', '115', '120', '125', '130', '135', '140']\n"
     ]
    }
   ],
   "source": [
    "lables = [str(i) for i in x]\n",
    "print(lables)"
   ]
  },
  {
   "cell_type": "code",
   "execution_count": 25,
   "id": "88a6525a",
   "metadata": {},
   "outputs": [
    {
     "name": "stdout",
     "output_type": "stream",
     "text": [
      "[49653 37823 27574  7193  7723  7867  7612  8665]\n"
     ]
    }
   ],
   "source": [
    "# Store value of data_06_22_count into y\n",
    "values = data_destination_count_sort.values\n",
    "print(values)"
   ]
  },
  {
   "cell_type": "code",
   "execution_count": 27,
   "id": "dd29df61",
   "metadata": {},
   "outputs": [
    {
     "data": {
      "image/png": "[encoded data removed]",
      "text/plain": [
       "<Figure size 1440x720 with 1 Axes>"
      ]
     },
     "metadata": {
      "needs_background": "light"
     },
     "output_type": "display_data"
    }
   ],
   "source": [
    "# Config size\n",
    "plt.figure(figsize=(20,10))\n",
    "plt.plot(lables, values, marker=\"*\", color=\"b\")\n",
    "plt.title(\"Traffic Per Destination\", fontsize=18)\n",
    "plt.xlabel(\"Destination\", fontdict={\"size\":16})\n",
    "plt.ylabel(\"Traffic\", fontdict={\"size\":16})\n",
    "plt.show()"
   ]
  },
  {
   "cell_type": "markdown",
   "id": "5f76bc1b",
   "metadata": {},
   "source": [
    "# 5. 요일"
   ]
  },
  {
   "cell_type": "code",
   "execution_count": 28,
   "id": "e14a5358",
   "metadata": {},
   "outputs": [],
   "source": [
    "data_weekdays = data.groupby(by=[\"요일\"]).mean()"
   ]
  },
  {
   "cell_type": "code",
   "execution_count": 29,
   "id": "a5c923ea",
   "metadata": {},
   "outputs": [
    {
     "data": {
      "text/html": [
       "<div>\n",
       "<style scoped>\n",
       "    .dataframe tbody tr th:only-of-type {\n",
       "        vertical-align: middle;\n",
       "    }\n",
       "\n",
       "    .dataframe tbody tr th {\n",
       "        vertical-align: top;\n",
       "    }\n",
       "\n",
       "    .dataframe thead th {\n",
       "        text-align: right;\n",
       "    }\n",
       "</style>\n",
       "<table border=\"1\" class=\"dataframe\">\n",
       "  <thead>\n",
       "    <tr style=\"text-align: right;\">\n",
       "      <th></th>\n",
       "      <th>집계일자</th>\n",
       "      <th>집계시</th>\n",
       "      <th>출발영업소코드</th>\n",
       "      <th>도착영업소코드</th>\n",
       "      <th>통행시간</th>\n",
       "    </tr>\n",
       "    <tr>\n",
       "      <th>요일</th>\n",
       "      <th></th>\n",
       "      <th></th>\n",
       "      <th></th>\n",
       "      <th></th>\n",
       "      <th></th>\n",
       "    </tr>\n",
       "  </thead>\n",
       "  <tbody>\n",
       "    <tr>\n",
       "      <th>0</th>\n",
       "      <td>2.021067e+07</td>\n",
       "      <td>11.634853</td>\n",
       "      <td>101.0</td>\n",
       "      <td>114.462980</td>\n",
       "      <td>5158.098941</td>\n",
       "    </tr>\n",
       "    <tr>\n",
       "      <th>1</th>\n",
       "      <td>2.021067e+07</td>\n",
       "      <td>11.723669</td>\n",
       "      <td>101.0</td>\n",
       "      <td>114.074944</td>\n",
       "      <td>5101.178747</td>\n",
       "    </tr>\n",
       "    <tr>\n",
       "      <th>2</th>\n",
       "      <td>2.021068e+07</td>\n",
       "      <td>11.755493</td>\n",
       "      <td>101.0</td>\n",
       "      <td>114.058710</td>\n",
       "      <td>5048.448651</td>\n",
       "    </tr>\n",
       "    <tr>\n",
       "      <th>3</th>\n",
       "      <td>2.021068e+07</td>\n",
       "      <td>11.734553</td>\n",
       "      <td>101.0</td>\n",
       "      <td>114.074535</td>\n",
       "      <td>5108.408786</td>\n",
       "    </tr>\n",
       "    <tr>\n",
       "      <th>4</th>\n",
       "      <td>2.021068e+07</td>\n",
       "      <td>11.861265</td>\n",
       "      <td>101.0</td>\n",
       "      <td>114.469859</td>\n",
       "      <td>5408.943224</td>\n",
       "    </tr>\n",
       "    <tr>\n",
       "      <th>5</th>\n",
       "      <td>2.021066e+07</td>\n",
       "      <td>11.142020</td>\n",
       "      <td>101.0</td>\n",
       "      <td>115.024414</td>\n",
       "      <td>5768.411412</td>\n",
       "    </tr>\n",
       "    <tr>\n",
       "      <th>6</th>\n",
       "      <td>2.021067e+07</td>\n",
       "      <td>12.297062</td>\n",
       "      <td>101.0</td>\n",
       "      <td>115.049390</td>\n",
       "      <td>5165.774502</td>\n",
       "    </tr>\n",
       "  </tbody>\n",
       "</table>\n",
       "</div>"
      ],
      "text/plain": [
       "            집계일자        집계시  출발영업소코드     도착영업소코드         통행시간\n",
       "요일                                                           \n",
       "0   2.021067e+07  11.634853    101.0  114.462980  5158.098941\n",
       "1   2.021067e+07  11.723669    101.0  114.074944  5101.178747\n",
       "2   2.021068e+07  11.755493    101.0  114.058710  5048.448651\n",
       "3   2.021068e+07  11.734553    101.0  114.074535  5108.408786\n",
       "4   2.021068e+07  11.861265    101.0  114.469859  5408.943224\n",
       "5   2.021066e+07  11.142020    101.0  115.024414  5768.411412\n",
       "6   2.021067e+07  12.297062    101.0  115.049390  5165.774502"
      ]
     },
     "execution_count": 29,
     "metadata": {},
     "output_type": "execute_result"
    }
   ],
   "source": [
    "data_weekdays"
   ]
  },
  {
   "cell_type": "code",
   "execution_count": 30,
   "id": "916229cb",
   "metadata": {},
   "outputs": [],
   "source": [
    "data_weekdays_time = data_weekdays[\"통행시간\"]"
   ]
  },
  {
   "cell_type": "code",
   "execution_count": 31,
   "id": "3296c081",
   "metadata": {},
   "outputs": [
    {
     "data": {
      "text/plain": [
       "요일\n",
       "0    5158.098941\n",
       "1    5101.178747\n",
       "2    5048.448651\n",
       "3    5108.408786\n",
       "4    5408.943224\n",
       "5    5768.411412\n",
       "6    5165.774502\n",
       "Name: 통행시간, dtype: float64"
      ]
     },
     "execution_count": 31,
     "metadata": {},
     "output_type": "execute_result"
    }
   ],
   "source": [
    "data_weekdays_time"
   ]
  },
  {
   "cell_type": "code",
   "execution_count": 33,
   "id": "4164ff9a",
   "metadata": {},
   "outputs": [
    {
     "name": "stdout",
     "output_type": "stream",
     "text": [
      "['0', '1', '2', '3', '4', '5', '6']\n"
     ]
    }
   ],
   "source": [
    "x = data_weekdays_time.index\n",
    "lables = [str(i) for i in x]\n",
    "print(lables)"
   ]
  },
  {
   "cell_type": "code",
   "execution_count": 34,
   "id": "19178e01",
   "metadata": {},
   "outputs": [
    {
     "name": "stdout",
     "output_type": "stream",
     "text": [
      "[5158.09894103 5101.1787472  5048.44865083 5108.40878603 5408.9432236\n",
      " 5768.41141183 5165.77450224]\n"
     ]
    }
   ],
   "source": [
    "values = data_weekdays_time.values\n",
    "print(values)"
   ]
  },
  {
   "cell_type": "code",
   "execution_count": 36,
   "id": "e278ec00",
   "metadata": {},
   "outputs": [
    {
     "data": {
      "image/png": "[encoded data removed]",
      "text/plain": [
       "<Figure size 1440x720 with 1 Axes>"
      ]
     },
     "metadata": {
      "needs_background": "light"
     },
     "output_type": "display_data"
    }
   ],
   "source": [
    "# Config size\n",
    "plt.figure(figsize=(20,10))\n",
    "plt.plot(lables, values, marker=\"d\", color=\"g\")\n",
    "plt.title(\"Traffic Per Day of the week\", fontsize=18)\n",
    "plt.xlabel(\"Day of the week\", fontdict={\"size\":16})\n",
    "plt.ylabel(\"Traffic\", fontdict={\"size\":16})\n",
    "plt.show()"
   ]
  },
  {
   "cell_type": "code",
   "execution_count": null,
   "id": "20005676",
   "metadata": {},
   "outputs": [],
   "source": []
  }
 ],
 "metadata": {
  "interpreter": {
   "hash": "ff9b2c783dfd5c2950b68eea8d46ac34fc5d0e7c7b072cc01e42b3e0c50683fe"
  },
  "kernelspec": {
   "display_name": "DL",
   "language": "python",
   "name": "dl"
  },
  "language_info": {
   "codemirror_mode": {
    "name": "ipython",
    "version": 3
   },
   "file_extension": ".py",
   "mimetype": "text/x-python",
   "name": "python",
   "nbconvert_exporter": "python",
   "pygments_lexer": "ipython3",
   "version": "3.8.12"
  }
 },
 "nbformat": 4,
 "nbformat_minor": 5
}
