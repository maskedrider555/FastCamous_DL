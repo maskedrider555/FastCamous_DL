{
 "cells": [
  {
   "cell_type": "markdown",
   "id": "28e47a8c",
   "metadata": {},
   "source": [
    "# 1. Condition"
   ]
  },
  {
   "cell_type": "code",
   "execution_count": 6,
   "id": "f00df875",
   "metadata": {},
   "outputs": [],
   "source": [
    "name = \"cat\""
   ]
  },
  {
   "cell_type": "code",
   "execution_count": 7,
   "id": "8ee4ebc7",
   "metadata": {},
   "outputs": [
    {
     "name": "stdout",
     "output_type": "stream",
     "text": [
      "Walk\n"
     ]
    }
   ],
   "source": [
    "if(name == \"bird\"):\n",
    "    print(\"Fly\")\n",
    "else:\n",
    "    print(\"Walk\")"
   ]
  },
  {
   "cell_type": "code",
   "execution_count": 8,
   "id": "9c3fb788",
   "metadata": {},
   "outputs": [
    {
     "name": "stdout",
     "output_type": "stream",
     "text": [
      "Stay\n"
     ]
    }
   ],
   "source": [
    "if(name == \"bird\"):\n",
    "    print(\"Fly\")\n",
    "elif(name == \"pig\"):\n",
    "    print(\"Walk\")\n",
    "else:\n",
    "    print(\"Stay\")"
   ]
  },
  {
   "cell_type": "markdown",
   "id": "31c2a33f",
   "metadata": {},
   "source": [
    "# 2. Loop"
   ]
  },
  {
   "cell_type": "code",
   "execution_count": 9,
   "id": "dde964f6",
   "metadata": {},
   "outputs": [],
   "source": [
    "multipicationTable = 3"
   ]
  },
  {
   "cell_type": "code",
   "execution_count": 10,
   "id": "0bb7cd3b",
   "metadata": {},
   "outputs": [
    {
     "name": "stdout",
     "output_type": "stream",
     "text": [
      "3 X 1 = 3\n",
      "3 X 2 = 6\n",
      "3 X 3 = 9\n",
      "3 X 4 = 12\n",
      "3 X 5 = 15\n",
      "3 X 6 = 18\n",
      "3 X 7 = 21\n",
      "3 X 8 = 24\n",
      "3 X 9 = 27\n"
     ]
    }
   ],
   "source": [
    "for i in range(1,10):\n",
    "    print(multipicationTable, \"X\", i, \"=\", multipicationTable*i)\n",
    "    "
   ]
  },
  {
   "cell_type": "code",
   "execution_count": 15,
   "id": "87fed4fd",
   "metadata": {},
   "outputs": [
    {
     "name": "stdout",
     "output_type": "stream",
     "text": [
      " 2 X  1 =     2\n",
      " 2 X  2 =     4\n",
      " 2 X  3 =     6\n",
      " 2 X  4 =     8\n",
      " 2 X  5 =    10\n",
      " 2 X  6 =    12\n",
      " 2 X  7 =    14\n",
      " 2 X  8 =    16\n",
      " 2 X  9 =    18\n",
      "-------------------------------\n",
      " 3 X  1 =     3\n",
      " 3 X  2 =     6\n",
      " 3 X  3 =     9\n",
      " 3 X  4 =    12\n",
      " 3 X  5 =    15\n",
      " 3 X  6 =    18\n",
      " 3 X  7 =    21\n",
      " 3 X  8 =    24\n",
      " 3 X  9 =    27\n",
      "-------------------------------\n",
      " 4 X  1 =     4\n",
      " 4 X  2 =     8\n",
      " 4 X  3 =    12\n",
      " 4 X  4 =    16\n",
      " 4 X  5 =    20\n",
      " 4 X  6 =    24\n",
      " 4 X  7 =    28\n",
      " 4 X  8 =    32\n",
      " 4 X  9 =    36\n",
      "-------------------------------\n",
      " 5 X  1 =     5\n",
      " 5 X  2 =    10\n",
      " 5 X  3 =    15\n",
      " 5 X  4 =    20\n",
      " 5 X  5 =    25\n",
      " 5 X  6 =    30\n",
      " 5 X  7 =    35\n",
      " 5 X  8 =    40\n",
      " 5 X  9 =    45\n",
      "-------------------------------\n",
      " 6 X  1 =     6\n",
      " 6 X  2 =    12\n",
      " 6 X  3 =    18\n",
      " 6 X  4 =    24\n",
      " 6 X  5 =    30\n",
      " 6 X  6 =    36\n",
      " 6 X  7 =    42\n",
      " 6 X  8 =    48\n",
      " 6 X  9 =    54\n",
      "-------------------------------\n",
      " 7 X  1 =     7\n",
      " 7 X  2 =    14\n",
      " 7 X  3 =    21\n",
      " 7 X  4 =    28\n",
      " 7 X  5 =    35\n",
      " 7 X  6 =    42\n",
      " 7 X  7 =    49\n",
      " 7 X  8 =    56\n",
      " 7 X  9 =    63\n",
      "-------------------------------\n",
      " 8 X  1 =     8\n",
      " 8 X  2 =    16\n",
      " 8 X  3 =    24\n",
      " 8 X  4 =    32\n",
      " 8 X  5 =    40\n",
      " 8 X  6 =    48\n",
      " 8 X  7 =    56\n",
      " 8 X  8 =    64\n",
      " 8 X  9 =    72\n",
      "-------------------------------\n",
      " 9 X  1 =     9\n",
      " 9 X  2 =    18\n",
      " 9 X  3 =    27\n",
      " 9 X  4 =    36\n",
      " 9 X  5 =    45\n",
      " 9 X  6 =    54\n",
      " 9 X  7 =    63\n",
      " 9 X  8 =    72\n",
      " 9 X  9 =    81\n",
      "-------------------------------\n"
     ]
    }
   ],
   "source": [
    "for i in range(2,10):\n",
    "    for j in range(1,10): \n",
    "            print(\"%2d X %2d = %5d\" %(i,j,i*j))\n",
    "    print(\"-------------------------------\")\n"
   ]
  },
  {
   "cell_type": "code",
   "execution_count": 16,
   "id": "85be687b",
   "metadata": {},
   "outputs": [
    {
     "name": "stdout",
     "output_type": "stream",
     "text": [
      "9 X 1 = 3\n",
      "9 X 2 = 6\n",
      "9 X 3 = 9\n",
      "9 X 4 = 12\n",
      "9 X 5 = 15\n",
      "9 X 6 = 18\n",
      "9 X 7 = 21\n",
      "9 X 8 = 24\n",
      "9 X 9 = 27\n"
     ]
    }
   ],
   "source": [
    "num = 9\n",
    "i = 1\n",
    "while i < 10:\n",
    "    print(num, \"X\", i, \"=\", multipicationTable*i)\n",
    "    i = i+1\n"
   ]
  },
  {
   "cell_type": "code",
   "execution_count": 20,
   "id": "2139724a",
   "metadata": {},
   "outputs": [
    {
     "name": "stdout",
     "output_type": "stream",
     "text": [
      " 2 X  1 =     2\n",
      " 2 X  2 =     4\n",
      " 2 X  3 =     6\n",
      " 2 X  4 =     8\n",
      " 2 X  5 =    10\n",
      " 2 X  6 =    12\n",
      " 2 X  7 =    14\n",
      " 2 X  8 =    16\n",
      " 2 X  9 =    18\n",
      "-------------------------------\n",
      " 3 X  1 =     3\n",
      " 3 X  2 =     6\n",
      " 3 X  3 =     9\n",
      " 3 X  4 =    12\n",
      " 3 X  5 =    15\n",
      " 3 X  6 =    18\n",
      " 3 X  7 =    21\n",
      " 3 X  8 =    24\n",
      " 3 X  9 =    27\n",
      "-------------------------------\n",
      " 4 X  1 =     4\n",
      " 4 X  2 =     8\n",
      " 4 X  3 =    12\n",
      " 4 X  4 =    16\n",
      " 4 X  5 =    20\n",
      " 4 X  6 =    24\n",
      " 4 X  7 =    28\n",
      " 4 X  8 =    32\n",
      " 4 X  9 =    36\n",
      "-------------------------------\n",
      " 5 X  1 =     5\n",
      " 5 X  2 =    10\n",
      " 5 X  3 =    15\n",
      " 5 X  4 =    20\n",
      " 5 X  5 =    25\n",
      " 5 X  6 =    30\n",
      " 5 X  7 =    35\n",
      " 5 X  8 =    40\n",
      " 5 X  9 =    45\n",
      "-------------------------------\n",
      " 6 X  1 =     6\n",
      " 6 X  2 =    12\n",
      " 6 X  3 =    18\n",
      " 6 X  4 =    24\n",
      " 6 X  5 =    30\n",
      " 6 X  6 =    36\n",
      " 6 X  7 =    42\n",
      " 6 X  8 =    48\n",
      " 6 X  9 =    54\n",
      "-------------------------------\n",
      " 7 X  1 =     7\n",
      " 7 X  2 =    14\n",
      " 7 X  3 =    21\n",
      " 7 X  4 =    28\n",
      " 7 X  5 =    35\n",
      " 7 X  6 =    42\n",
      " 7 X  7 =    49\n",
      " 7 X  8 =    56\n",
      " 7 X  9 =    63\n",
      "-------------------------------\n",
      " 8 X  1 =     8\n",
      " 8 X  2 =    16\n",
      " 8 X  3 =    24\n",
      " 8 X  4 =    32\n",
      " 8 X  5 =    40\n",
      " 8 X  6 =    48\n",
      " 8 X  7 =    56\n",
      " 8 X  8 =    64\n",
      " 8 X  9 =    72\n",
      "-------------------------------\n",
      " 9 X  1 =     9\n",
      " 9 X  2 =    18\n",
      " 9 X  3 =    27\n",
      " 9 X  4 =    36\n",
      " 9 X  5 =    45\n",
      " 9 X  6 =    54\n",
      " 9 X  7 =    63\n",
      " 9 X  8 =    72\n",
      " 9 X  9 =    81\n",
      "-------------------------------\n"
     ]
    }
   ],
   "source": [
    "i = 2\n",
    "while i < 10:\n",
    "    j = 1\n",
    "    while j < 10: \n",
    "            print(\"%2d X %2d = %5d\" %(i,j,i*j))\n",
    "            j = j+1\n",
    "    print(\"-------------------------------\")\n",
    "    i = i+1"
   ]
  },
  {
   "cell_type": "code",
   "execution_count": 24,
   "id": "166b1813",
   "metadata": {},
   "outputs": [],
   "source": [
    "StationFares = [\n",
    "    {\"station\" : \"A\", \"fare\" : 1500},\n",
    "    {\"station\" : \"B\", \"fare\" : 1800},\n",
    "    {\"station\" : \"C\", \"fare\" : 2100},\n",
    "    {\"station\" : \"D\", \"fare\" : 2900},\n",
    "]"
   ]
  },
  {
   "cell_type": "code",
   "execution_count": 25,
   "id": "3cb302dc",
   "metadata": {},
   "outputs": [
    {
     "name": "stdout",
     "output_type": "stream",
     "text": [
      "['A', 'B', 'C', 'D']\n",
      "[1500, 1800, 2100, 2900]\n"
     ]
    }
   ],
   "source": [
    "stations = []\n",
    "fares = []\n",
    "for stationFare in StationFares:\n",
    "    stations.append(stationFare[\"station\"])\n",
    "    fares.append(stationFare[\"fare\"])\n",
    "print(stations)\n",
    "print(fares)"
   ]
  }
 ],
 "metadata": {
  "interpreter": {
   "hash": "ff9b2c783dfd5c2950b68eea8d46ac34fc5d0e7c7b072cc01e42b3e0c50683fe"
  },
  "kernelspec": {
   "display_name": "DL",
   "language": "python",
   "name": "python3"
  },
  "language_info": {
   "codemirror_mode": {
    "name": "ipython",
    "version": 3
   },
   "file_extension": ".py",
   "mimetype": "text/x-python",
   "name": "python",
   "nbconvert_exporter": "python",
   "pygments_lexer": "ipython3",
   "version": "3.8.12"
  }
 },
 "nbformat": 4,
 "nbformat_minor": 5
}
