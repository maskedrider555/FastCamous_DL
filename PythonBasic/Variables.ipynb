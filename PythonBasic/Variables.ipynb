{
 "cells": [
  {
   "cell_type": "markdown",
   "id": "026e7b82",
   "metadata": {},
   "source": [
    "# 1. Variables"
   ]
  },
  {
   "cell_type": "code",
   "execution_count": 1,
   "id": "1cc03433",
   "metadata": {},
   "outputs": [],
   "source": [
    "score = 0"
   ]
  },
  {
   "cell_type": "code",
   "execution_count": 2,
   "id": "f00df875",
   "metadata": {},
   "outputs": [
    {
     "name": "stdout",
     "output_type": "stream",
     "text": [
      "0\n"
     ]
    }
   ],
   "source": [
    "print(score)"
   ]
  },
  {
   "cell_type": "code",
   "execution_count": 3,
   "id": "066418b8",
   "metadata": {},
   "outputs": [],
   "source": [
    "score = 10"
   ]
  },
  {
   "cell_type": "code",
   "execution_count": 4,
   "id": "a4241b18",
   "metadata": {},
   "outputs": [
    {
     "name": "stdout",
     "output_type": "stream",
     "text": [
      "10\n"
     ]
    }
   ],
   "source": [
    "print(score)"
   ]
  },
  {
   "cell_type": "code",
   "execution_count": 5,
   "id": "b947f45b",
   "metadata": {},
   "outputs": [],
   "source": [
    "score = 20"
   ]
  },
  {
   "cell_type": "code",
   "execution_count": 6,
   "id": "68e2230a",
   "metadata": {},
   "outputs": [
    {
     "name": "stdout",
     "output_type": "stream",
     "text": [
      "20\n"
     ]
    }
   ],
   "source": [
    "print(score)"
   ]
  },
  {
   "cell_type": "markdown",
   "id": "7fbda66b",
   "metadata": {},
   "source": [
    "# 2. Data Types"
   ]
  },
  {
   "cell_type": "code",
   "execution_count": 7,
   "id": "73d00ef7",
   "metadata": {},
   "outputs": [],
   "source": [
    "level = 1"
   ]
  },
  {
   "cell_type": "code",
   "execution_count": 8,
   "id": "954f5f44",
   "metadata": {},
   "outputs": [
    {
     "data": {
      "text/plain": [
       "int"
      ]
     },
     "execution_count": 8,
     "metadata": {},
     "output_type": "execute_result"
    }
   ],
   "source": [
    "type(level)"
   ]
  },
  {
   "cell_type": "code",
   "execution_count": 9,
   "id": "244fcaac",
   "metadata": {},
   "outputs": [],
   "source": [
    "angle = 35.45"
   ]
  },
  {
   "cell_type": "code",
   "execution_count": 10,
   "id": "b11c26ec",
   "metadata": {},
   "outputs": [
    {
     "data": {
      "text/plain": [
       "float"
      ]
     },
     "execution_count": 10,
     "metadata": {},
     "output_type": "execute_result"
    }
   ],
   "source": [
    "type(angle)"
   ]
  },
  {
   "cell_type": "code",
   "execution_count": 11,
   "id": "20cd4c3f",
   "metadata": {},
   "outputs": [],
   "source": [
    "name = \"John\""
   ]
  },
  {
   "cell_type": "code",
   "execution_count": 12,
   "id": "87bfa70f",
   "metadata": {},
   "outputs": [
    {
     "data": {
      "text/plain": [
       "str"
      ]
     },
     "execution_count": 12,
     "metadata": {},
     "output_type": "execute_result"
    }
   ],
   "source": [
    "type(name)"
   ]
  },
  {
   "cell_type": "code",
   "execution_count": 13,
   "id": "3eb10287",
   "metadata": {},
   "outputs": [],
   "source": [
    "sound = True"
   ]
  },
  {
   "cell_type": "code",
   "execution_count": 14,
   "id": "3867edde",
   "metadata": {},
   "outputs": [
    {
     "data": {
      "text/plain": [
       "bool"
      ]
     },
     "execution_count": 14,
     "metadata": {},
     "output_type": "execute_result"
    }
   ],
   "source": [
    "type(sound)"
   ]
  }
 ],
 "metadata": {
  "interpreter": {
   "hash": "ff9b2c783dfd5c2950b68eea8d46ac34fc5d0e7c7b072cc01e42b3e0c50683fe"
  },
  "kernelspec": {
   "display_name": "DL",
   "language": "python",
   "name": "python3"
  },
  "language_info": {
   "codemirror_mode": {
    "name": "ipython",
    "version": 3
   },
   "file_extension": ".py",
   "mimetype": "text/x-python",
   "name": "python",
   "nbconvert_exporter": "python",
   "pygments_lexer": "ipython3",
   "version": "3.8.12"
  }
 },
 "nbformat": 4,
 "nbformat_minor": 5
}
