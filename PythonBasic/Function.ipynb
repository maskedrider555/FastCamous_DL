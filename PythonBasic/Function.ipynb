{
 "cells": [
  {
   "cell_type": "markdown",
   "id": "7fbda66b",
   "metadata": {},
   "source": [
    "# 1. Function"
   ]
  },
  {
   "cell_type": "code",
   "execution_count": 1,
   "id": "72b8c795",
   "metadata": {},
   "outputs": [],
   "source": [
    "StationFares = [\n",
    "    {\"station\" : \"A\", \"fare\" : 1500},\n",
    "    {\"station\" : \"B\", \"fare\" : 1800},\n",
    "    {\"station\" : \"C\", \"fare\" : 2100},\n",
    "    {\"station\" : \"D\", \"fare\" : 2900},\n",
    "]"
   ]
  },
  {
   "cell_type": "code",
   "execution_count": 5,
   "id": "f914e98d",
   "metadata": {},
   "outputs": [],
   "source": [
    "stations = []\n",
    "fares = []"
   ]
  },
  {
   "cell_type": "code",
   "execution_count": 6,
   "id": "bcf6ed0d",
   "metadata": {},
   "outputs": [],
   "source": [
    "for stationfare in StationFares :\n",
    "    stations.append(stationfare[\"station\"])\n",
    "    fares.append(stationfare[\"fare\"])"
   ]
  },
  {
   "cell_type": "code",
   "execution_count": 7,
   "id": "5c924831",
   "metadata": {},
   "outputs": [
    {
     "name": "stdout",
     "output_type": "stream",
     "text": [
      "['A', 'B', 'C', 'D']\n",
      "[1500, 1800, 2100, 2900]\n"
     ]
    }
   ],
   "source": [
    "print(stations)\n",
    "print(fares)"
   ]
  },
  {
   "cell_type": "code",
   "execution_count": 8,
   "id": "31f51940",
   "metadata": {},
   "outputs": [
    {
     "data": {
      "text/plain": [
       "4"
      ]
     },
     "execution_count": 8,
     "metadata": {},
     "output_type": "execute_result"
    }
   ],
   "source": [
    "len(StationFares)"
   ]
  },
  {
   "cell_type": "code",
   "execution_count": 9,
   "id": "7e4c0c35",
   "metadata": {},
   "outputs": [
    {
     "data": {
      "text/plain": [
       "2900"
      ]
     },
     "execution_count": 9,
     "metadata": {},
     "output_type": "execute_result"
    }
   ],
   "source": [
    "max(fares)"
   ]
  },
  {
   "cell_type": "code",
   "execution_count": 10,
   "id": "d99c4934",
   "metadata": {},
   "outputs": [
    {
     "data": {
      "text/plain": [
       "1500"
      ]
     },
     "execution_count": 10,
     "metadata": {},
     "output_type": "execute_result"
    }
   ],
   "source": [
    "min(fares)"
   ]
  },
  {
   "cell_type": "code",
   "execution_count": 11,
   "id": "893e6d72",
   "metadata": {},
   "outputs": [
    {
     "data": {
      "text/plain": [
       "8300"
      ]
     },
     "execution_count": 11,
     "metadata": {},
     "output_type": "execute_result"
    }
   ],
   "source": [
    "sum(fares)"
   ]
  },
  {
   "cell_type": "code",
   "execution_count": 17,
   "id": "510604e4",
   "metadata": {},
   "outputs": [
    {
     "name": "stdout",
     "output_type": "stream",
     "text": [
      "A\n",
      "B\n",
      "C\n",
      "D\n"
     ]
    }
   ],
   "source": [
    "for station in stations:\n",
    "    print(station)"
   ]
  },
  {
   "cell_type": "code",
   "execution_count": 13,
   "id": "c28b442b",
   "metadata": {},
   "outputs": [
    {
     "name": "stdout",
     "output_type": "stream",
     "text": [
      "0 A\n",
      "1 B\n",
      "2 C\n",
      "3 D\n"
     ]
    }
   ],
   "source": [
    "for idx, station in enumerate(stations):\n",
    "    print(idx, station)"
   ]
  },
  {
   "cell_type": "code",
   "execution_count": 14,
   "id": "eaddb551",
   "metadata": {},
   "outputs": [
    {
     "data": {
      "text/plain": [
       "5"
      ]
     },
     "execution_count": 14,
     "metadata": {},
     "output_type": "execute_result"
    }
   ],
   "source": [
    "sum = lambda a, b : a+b\n",
    "sum(2, 3)"
   ]
  },
  {
   "cell_type": "code",
   "execution_count": 25,
   "id": "15e2f4b0",
   "metadata": {},
   "outputs": [
    {
     "name": "stdout",
     "output_type": "stream",
     "text": [
      "1500\n"
     ]
    }
   ],
   "source": [
    "def GetFare(station, stationfares):\n",
    "    for stationfare in stationfares:\n",
    "        if stationfare[\"station\"] == station:\n",
    "            return stationfare[\"fare\"]\n",
    "fare = GetFare(\"A\", StationFares)\n",
    "print(fare)"
   ]
  },
  {
   "cell_type": "code",
   "execution_count": 24,
   "id": "6abe7b85",
   "metadata": {},
   "outputs": [
    {
     "name": "stdout",
     "output_type": "stream",
     "text": [
      "A 1500\n",
      "B 1800\n",
      "C 2100\n",
      "D 2900\n"
     ]
    }
   ],
   "source": [
    "for station in stations:\n",
    "    print(station, GetFare(station, StationFares))"
   ]
  },
  {
   "cell_type": "code",
   "execution_count": null,
   "id": "fd8ea0a3",
   "metadata": {},
   "outputs": [],
   "source": []
  }
 ],
 "metadata": {
  "interpreter": {
   "hash": "ff9b2c783dfd5c2950b68eea8d46ac34fc5d0e7c7b072cc01e42b3e0c50683fe"
  },
  "kernelspec": {
   "display_name": "DL",
   "language": "python",
   "name": "python3"
  },
  "language_info": {
   "codemirror_mode": {
    "name": "ipython",
    "version": 3
   },
   "file_extension": ".py",
   "mimetype": "text/x-python",
   "name": "python",
   "nbconvert_exporter": "python",
   "pygments_lexer": "ipython3",
   "version": "3.8.12"
  }
 },
 "nbformat": 4,
 "nbformat_minor": 5
}
