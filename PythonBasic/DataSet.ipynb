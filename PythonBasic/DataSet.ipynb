{
 "cells": [
  {
   "cell_type": "markdown",
   "id": "42982826",
   "metadata": {},
   "source": [
    "# 1. List\n"
   ]
  },
  {
   "cell_type": "code",
   "execution_count": 6,
   "id": "1cc03433",
   "metadata": {},
   "outputs": [],
   "source": [
    "names = []"
   ]
  },
  {
   "cell_type": "code",
   "execution_count": 7,
   "id": "f00df875",
   "metadata": {},
   "outputs": [
    {
     "name": "stdout",
     "output_type": "stream",
     "text": [
      "['First']\n"
     ]
    }
   ],
   "source": [
    "name = \"First\"\n",
    "names.append(name)\n",
    "print(names)"
   ]
  },
  {
   "cell_type": "code",
   "execution_count": 8,
   "id": "758e9ca1",
   "metadata": {},
   "outputs": [
    {
     "name": "stdout",
     "output_type": "stream",
     "text": [
      "['First', 'Second']\n"
     ]
    }
   ],
   "source": [
    "name = \"Second\"\n",
    "names.append(name)\n",
    "print(names)"
   ]
  },
  {
   "cell_type": "code",
   "execution_count": 10,
   "id": "2abb596a",
   "metadata": {},
   "outputs": [
    {
     "name": "stdout",
     "output_type": "stream",
     "text": [
      "['First', 'Second', 'Third']\n"
     ]
    }
   ],
   "source": [
    "name = \"Third\"\n",
    "names.append(name)\n",
    "print(names)"
   ]
  },
  {
   "cell_type": "code",
   "execution_count": 9,
   "id": "374d0f47",
   "metadata": {},
   "outputs": [
    {
     "data": {
      "text/plain": [
       "'First'"
      ]
     },
     "execution_count": 9,
     "metadata": {},
     "output_type": "execute_result"
    }
   ],
   "source": [
    "names[0]"
   ]
  },
  {
   "cell_type": "code",
   "execution_count": 11,
   "id": "ba9f183b",
   "metadata": {},
   "outputs": [
    {
     "data": {
      "text/plain": [
       "'Second'"
      ]
     },
     "execution_count": 11,
     "metadata": {},
     "output_type": "execute_result"
    }
   ],
   "source": [
    "names[1]"
   ]
  },
  {
   "cell_type": "code",
   "execution_count": 12,
   "id": "eb23e8c3",
   "metadata": {},
   "outputs": [
    {
     "data": {
      "text/plain": [
       "'Third'"
      ]
     },
     "execution_count": 12,
     "metadata": {},
     "output_type": "execute_result"
    }
   ],
   "source": [
    "names[2]"
   ]
  },
  {
   "cell_type": "code",
   "execution_count": 13,
   "id": "4d7e8b88",
   "metadata": {},
   "outputs": [
    {
     "data": {
      "text/plain": [
       "'Third'"
      ]
     },
     "execution_count": 13,
     "metadata": {},
     "output_type": "execute_result"
    }
   ],
   "source": [
    "names[-1]"
   ]
  },
  {
   "cell_type": "code",
   "execution_count": 14,
   "id": "136dbdb6",
   "metadata": {},
   "outputs": [
    {
     "data": {
      "text/plain": [
       "['First', 'Second']"
      ]
     },
     "execution_count": 14,
     "metadata": {},
     "output_type": "execute_result"
    }
   ],
   "source": [
    "names[0:2]"
   ]
  },
  {
   "cell_type": "code",
   "execution_count": 15,
   "id": "744558e3",
   "metadata": {},
   "outputs": [
    {
     "data": {
      "text/plain": [
       "['Second', 'Third']"
      ]
     },
     "execution_count": 15,
     "metadata": {},
     "output_type": "execute_result"
    }
   ],
   "source": [
    "names[1:]"
   ]
  },
  {
   "cell_type": "code",
   "execution_count": 16,
   "id": "59b8ac7b",
   "metadata": {},
   "outputs": [
    {
     "data": {
      "text/plain": [
       "3"
      ]
     },
     "execution_count": 16,
     "metadata": {},
     "output_type": "execute_result"
    }
   ],
   "source": [
    "len(names)"
   ]
  },
  {
   "cell_type": "code",
   "execution_count": 17,
   "id": "3bc3ee3b",
   "metadata": {},
   "outputs": [
    {
     "data": {
      "text/plain": [
       "['First', 'Second', 'Third']"
      ]
     },
     "execution_count": 17,
     "metadata": {},
     "output_type": "execute_result"
    }
   ],
   "source": [
    "names"
   ]
  },
  {
   "cell_type": "code",
   "execution_count": 18,
   "id": "19db58d1",
   "metadata": {},
   "outputs": [
    {
     "data": {
      "text/plain": [
       "0"
      ]
     },
     "execution_count": 18,
     "metadata": {},
     "output_type": "execute_result"
    }
   ],
   "source": [
    "names.index(\"First\")"
   ]
  },
  {
   "cell_type": "code",
   "execution_count": 19,
   "id": "81d61aaa",
   "metadata": {},
   "outputs": [],
   "source": [
    "names[1] = \"Change\""
   ]
  },
  {
   "cell_type": "code",
   "execution_count": 20,
   "id": "74e37c48",
   "metadata": {},
   "outputs": [
    {
     "data": {
      "text/plain": [
       "['First', 'Change', 'Third']"
      ]
     },
     "execution_count": 20,
     "metadata": {},
     "output_type": "execute_result"
    }
   ],
   "source": [
    "names"
   ]
  },
  {
   "cell_type": "code",
   "execution_count": 23,
   "id": "cbc107ef",
   "metadata": {},
   "outputs": [
    {
     "name": "stdout",
     "output_type": "stream",
     "text": [
      "[['First', 'Change', 'Third'], [100, 90, 60]]\n"
     ]
    }
   ],
   "source": [
    "scores = [100, 90, 60]\n",
    "highScores = [names, scores]\n",
    "print(highScores)"
   ]
  },
  {
   "cell_type": "code",
   "execution_count": 24,
   "id": "835ae3ac",
   "metadata": {},
   "outputs": [
    {
     "data": {
      "text/plain": [
       "'First'"
      ]
     },
     "execution_count": 24,
     "metadata": {},
     "output_type": "execute_result"
    }
   ],
   "source": [
    "highScores[0][0]"
   ]
  },
  {
   "cell_type": "code",
   "execution_count": 26,
   "id": "22fef163",
   "metadata": {},
   "outputs": [
    {
     "data": {
      "text/plain": [
       "100"
      ]
     },
     "execution_count": 26,
     "metadata": {},
     "output_type": "execute_result"
    }
   ],
   "source": [
    "highScores[1][0]"
   ]
  },
  {
   "cell_type": "markdown",
   "id": "0c157b4c",
   "metadata": {},
   "source": [
    "# 2. Dictionary"
   ]
  },
  {
   "cell_type": "code",
   "execution_count": 30,
   "id": "4e722117",
   "metadata": {},
   "outputs": [],
   "source": [
    "stationFares = []"
   ]
  },
  {
   "cell_type": "code",
   "execution_count": 31,
   "id": "161ae488",
   "metadata": {},
   "outputs": [
    {
     "name": "stdout",
     "output_type": "stream",
     "text": [
      "{'Station': ['A'], 'fare': [1000]}\n",
      "[{'Station': ['A'], 'fare': [1000]}]\n"
     ]
    }
   ],
   "source": [
    "dic = {}\n",
    "station = [\"A\"]\n",
    "fare = [1000]\n",
    "dic[\"Station\"] = station\n",
    "dic[\"fare\"] = fare\n",
    "stationFares.append(dic)\n",
    "\n",
    "print(dic)\n",
    "print(stationFares)"
   ]
  },
  {
   "cell_type": "code",
   "execution_count": 32,
   "id": "c6b89b27",
   "metadata": {},
   "outputs": [
    {
     "name": "stdout",
     "output_type": "stream",
     "text": [
      "{'Station': ['B'], 'fare': [2400]}\n",
      "[{'Station': ['A'], 'fare': [1000]}, {'Station': ['B'], 'fare': [2400]}]\n"
     ]
    }
   ],
   "source": [
    "dic = {}\n",
    "station = [\"B\"]\n",
    "fare = [2400]\n",
    "dic[\"Station\"] = station\n",
    "dic[\"fare\"] = fare\n",
    "stationFares.append(dic)\n",
    "\n",
    "print(dic)\n",
    "print(stationFares)"
   ]
  },
  {
   "cell_type": "code",
   "execution_count": 33,
   "id": "c093807f",
   "metadata": {},
   "outputs": [
    {
     "data": {
      "text/plain": [
       "{'Station': ['A'], 'fare': [1000]}"
      ]
     },
     "execution_count": 33,
     "metadata": {},
     "output_type": "execute_result"
    }
   ],
   "source": [
    "stationFares[0]"
   ]
  },
  {
   "cell_type": "code",
   "execution_count": 34,
   "id": "0abcc7cd",
   "metadata": {},
   "outputs": [
    {
     "data": {
      "text/plain": [
       "dict_keys(['Station', 'fare'])"
      ]
     },
     "execution_count": 34,
     "metadata": {},
     "output_type": "execute_result"
    }
   ],
   "source": [
    "dic.keys()"
   ]
  },
  {
   "cell_type": "code",
   "execution_count": 35,
   "id": "ed82f303",
   "metadata": {},
   "outputs": [
    {
     "data": {
      "text/plain": [
       "dict_values([['B'], [2400]])"
      ]
     },
     "execution_count": 35,
     "metadata": {},
     "output_type": "execute_result"
    }
   ],
   "source": [
    "dic.values()"
   ]
  },
  {
   "cell_type": "code",
   "execution_count": 36,
   "id": "c9e74ace",
   "metadata": {},
   "outputs": [
    {
     "data": {
      "text/plain": [
       "dict_keys(['Station', 'fare'])"
      ]
     },
     "execution_count": 36,
     "metadata": {},
     "output_type": "execute_result"
    }
   ],
   "source": [
    "stationFares[0].keys()"
   ]
  },
  {
   "cell_type": "code",
   "execution_count": 37,
   "id": "cc3ee90c",
   "metadata": {},
   "outputs": [
    {
     "data": {
      "text/plain": [
       "dict_values([['A'], [1000]])"
      ]
     },
     "execution_count": 37,
     "metadata": {},
     "output_type": "execute_result"
    }
   ],
   "source": [
    "stationFares[0].values()"
   ]
  },
  {
   "cell_type": "code",
   "execution_count": null,
   "id": "1815d427",
   "metadata": {},
   "outputs": [],
   "source": []
  }
 ],
 "metadata": {
  "interpreter": {
   "hash": "ff9b2c783dfd5c2950b68eea8d46ac34fc5d0e7c7b072cc01e42b3e0c50683fe"
  },
  "kernelspec": {
   "display_name": "DL",
   "language": "python",
   "name": "python3"
  },
  "language_info": {
   "codemirror_mode": {
    "name": "ipython",
    "version": 3
   },
   "file_extension": ".py",
   "mimetype": "text/x-python",
   "name": "python",
   "nbconvert_exporter": "python",
   "pygments_lexer": "ipython3",
   "version": "3.8.12"
  }
 },
 "nbformat": 4,
 "nbformat_minor": 5
}
