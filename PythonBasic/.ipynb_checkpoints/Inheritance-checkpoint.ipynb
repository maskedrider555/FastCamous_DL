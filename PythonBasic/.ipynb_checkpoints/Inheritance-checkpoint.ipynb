{
 "cells": [
  {
   "cell_type": "markdown",
   "id": "6658d5ce",
   "metadata": {},
   "source": [
    "# 1.Function"
   ]
  },
  {
   "cell_type": "code",
   "execution_count": 1,
   "id": "e1e6bb18",
   "metadata": {},
   "outputs": [],
   "source": [
    "stationfares = [\n",
    "    {\"station\" : \"A\", \"fare\" : 1500},\n",
    "    {\"station\" : \"B\", \"fare\" : 1800},\n",
    "    {\"station\" : \"C\", \"fare\" : 2100},\n",
    "    {\"station\" : \"D\", \"fare\" : 2900},\n",
    "]"
   ]
  },
  {
   "cell_type": "code",
   "execution_count": 2,
   "id": "4459c38c",
   "metadata": {},
   "outputs": [
    {
     "name": "stdout",
     "output_type": "stream",
     "text": [
      "['A', 'B', 'C', 'D']\n",
      "[1500, 1800, 2100, 2900]\n"
     ]
    }
   ],
   "source": [
    "stations = []\n",
    "fares = []\n",
    "for stationfare in stationfares :\n",
    "    stations.append(stationfare[\"station\"])\n",
    "    fares.append(stationfare[\"fare\"])\n",
    "print(stations)\n",
    "print(fares)"
   ]
  },
  {
   "cell_type": "code",
   "execution_count": 3,
   "id": "4ab29abd",
   "metadata": {},
   "outputs": [
    {
     "name": "stdout",
     "output_type": "stream",
     "text": [
      "1500\n"
     ]
    }
   ],
   "source": [
    "def GetFare(station, stationfares):\n",
    "    for stationfare in stationfares:\n",
    "        if stationfare[\"station\"] == station:\n",
    "            return stationfare[\"fare\"]\n",
    "fare = GetFare(\"A\", stationfares)\n",
    "print(fare)"
   ]
  },
  {
   "cell_type": "markdown",
   "id": "44053409",
   "metadata": {},
   "source": [
    "# 2. Class"
   ]
  },
  {
   "cell_type": "code",
   "execution_count": 4,
   "id": "2a7dbf58",
   "metadata": {},
   "outputs": [],
   "source": [
    "class Comments:\n",
    "    title               = \"#### %s 승차권 판매기입니다. ####\"\n",
    "    product_description = \"%s:%s(%s원)\"\n",
    "    insert_fare         = \"\\n요금을 넣어 주세요. : \"\n",
    "    insufficient_fare   = \"%s 요금이 부족합니다. 거스름돈은 %s원 입니다.\"\n",
    "    select_station      = \"원하시는 역번호를 선택하세요.\"\n",
    "    select_error        = \"잘못 입력하셨습니다.\"\n",
    "    finish_sale         = \"선택하신 %s 입니다. 거스름돈은 %s원 입니다.\\n감사합니다.\"\n",
    "    terminate_sale      = \"승차권 판매를 종료합니다.\" "
   ]
  },
  {
   "cell_type": "code",
   "execution_count": 5,
   "id": "59793ac8",
   "metadata": {},
   "outputs": [],
   "source": [
    "class Products :\n",
    "    productNames = []\n",
    "    productValues = []"
   ]
  },
  {
   "cell_type": "code",
   "execution_count": 6,
   "id": "a0b0ca74",
   "metadata": {},
   "outputs": [],
   "source": [
    "class SubwayTicket(Products) :\n",
    "    _data = stationfares\n",
    "    _name = \"지하철\"\n",
    "    _status = True\n",
    "\n",
    "    def __init__(self):\n",
    "        print(Comments.title %self._name)\n",
    "\n",
    "    def set_products(self):\n",
    "        Products.productNames = []\n",
    "        Products.productValues = []\n",
    "        for stationfare in self._data:\n",
    "            Products.productNames.append(stationfare[\"station\"])\n",
    "            Products.productValues.append(stationfare[\"fare\"])\n",
    "\n",
    "    def run(self):\n",
    "        self.set_products()\n",
    "        while self._status:\n",
    "            try:\n",
    "                inputMoney = int(input(Comments.insert_fare))\n",
    "            except ValueError:\n",
    "                print(Comments.select_error)\n",
    "            else:\n",
    "                self.selectStation(inputMoney)\n",
    "    \n",
    "    def selectStation(self, money):\n",
    "        print(Comments.select_station)\n",
    "        for idx, name in enumerate(Products.productNames):\n",
    "            fare = Products.productValues[idx]\n",
    "            print(Comments.product_description %(str(idx), name, fare))\n",
    "        inputStation = int(input(Comments.select_station))\n",
    "        self.payment(money, inputStation)\n",
    "\n",
    "    def payment(self, money, idx):\n",
    "        name = Products.productNames[idx]\n",
    "        fare = Products.productValues[idx]\n",
    "        if money >= fare:\n",
    "            balance = money - fare\n",
    "            print(Comments.finish_sale %(name, str(balance)))\n",
    "        else:\n",
    "            print(Comments.insufficient_fare %(name, str(money)))\n",
    "    \n",
    "            \n",
    "    \n",
    "    "
   ]
  },
  {
   "cell_type": "code",
   "execution_count": null,
   "id": "82db2210",
   "metadata": {},
   "outputs": [],
   "source": [
    "tm = SubwayTicket()\n",
    "\n",
    "try: \n",
    "    tm.run()\n",
    "except KeyboardInterrupt:\n",
    "    tm._status = False\n",
    "    print(Comments)"
   ]
  },
  {
   "cell_type": "markdown",
   "id": "3159ec07",
   "metadata": {},
   "source": [
    "# 3. Inheritance"
   ]
  },
  {
   "cell_type": "code",
   "execution_count": 8,
   "id": "20a87b74",
   "metadata": {},
   "outputs": [],
   "source": [
    "railstationfares = [\n",
    "    {\"station\" : \"천안\", \"fare\" : 15000},\n",
    "    {\"station\" : \"대전\", \"fare\" : 18000},\n",
    "    {\"station\" : \"동대구\", \"fare\" : 21000},\n",
    "    {\"station\" : \"부산\", \"fare\" : 29000},\n",
    "]"
   ]
  },
  {
   "cell_type": "code",
   "execution_count": null,
   "id": "9b2079f2",
   "metadata": {},
   "outputs": [],
   "source": [
    "ㅊ"
   ]
  }
 ],
 "metadata": {
  "interpreter": {
   "hash": "ff9b2c783dfd5c2950b68eea8d46ac34fc5d0e7c7b072cc01e42b3e0c50683fe"
  },
  "kernelspec": {
   "display_name": "Python 3 (ipykernel)",
   "language": "python",
   "name": "python3"
  },
  "language_info": {
   "codemirror_mode": {
    "name": "ipython",
    "version": 3
   },
   "file_extension": ".py",
   "mimetype": "text/x-python",
   "name": "python",
   "nbconvert_exporter": "python",
   "pygments_lexer": "ipython3",
   "version": "3.8.12"
  }
 },
 "nbformat": 4,
 "nbformat_minor": 5
}
