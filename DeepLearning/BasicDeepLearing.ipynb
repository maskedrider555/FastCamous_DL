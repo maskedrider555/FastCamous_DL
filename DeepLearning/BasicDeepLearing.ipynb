{
  "cells": [
    {
      "cell_type": "code",
      "execution_count": 1,
      "metadata": {
        "colab": {
          "base_uri": "https://localhost:8080/"
        },
        "id": "Tjg0Ovk0KNuB",
        "outputId": "ee707a66-c70d-44c6-d9ae-854e1fc692f5"
      },
      "outputs": [
        {
          "name": "stdout",
          "output_type": "stream",
          "text": [
            "2.8.0\n"
          ]
        }
      ],
      "source": [
        "# TensorFlow and tf.keras\n",
        "import tensorflow as tf\n",
        "from tensorflow import keras\n",
        "# Helper libraries\n",
        "import numpy as np\n",
        "import matplotlib.pyplot as plt\n",
        "\n",
        "print(tf.__version__)"
      ]
    },
    {
      "cell_type": "code",
      "execution_count": 2,
      "metadata": {},
      "outputs": [],
      "source": [
        "# Define Constant\n",
        "batchSize = 128\n",
        "epochs = 100\n",
        "numClasses = 10 #mnist (0~9)"
      ]
    },
    {
      "cell_type": "code",
      "execution_count": 4,
      "metadata": {},
      "outputs": [
        {
          "name": "stdout",
          "output_type": "stream",
          "text": [
            "Downloading data from https://storage.googleapis.com/tensorflow/tf-keras-datasets/mnist.npz\n",
            "11493376/11490434 [==============================] - 1s 0us/step\n",
            "11501568/11490434 [==============================] - 1s 0us/step\n"
          ]
        }
      ],
      "source": [
        "# Downliad MNIST Dataset\n",
        "mnist = keras.datasets.mnist\n",
        "(trainImages, trainLabels), (testImages, testLabels) = mnist.load_data()"
      ]
    },
    {
      "cell_type": "code",
      "execution_count": 7,
      "metadata": {},
      "outputs": [
        {
          "name": "stdout",
          "output_type": "stream",
          "text": [
            "60000\n",
            "10000\n"
          ]
        }
      ],
      "source": [
        "print(len(trainImages))\n",
        "print(len(testImages))"
      ]
    },
    {
      "cell_type": "code",
      "execution_count": 8,
      "metadata": {},
      "outputs": [],
      "source": [
        "# Normalize the input image so that each pixel values is between 0 to 1\n",
        "trainImages = trainImages/255.0\n",
        "testImages = testImages/255.0\n"
      ]
    },
    {
      "cell_type": "code",
      "execution_count": 12,
      "metadata": {},
      "outputs": [],
      "source": [
        "# Define the model architecture\n",
        "model = keras.Sequential([\n",
        "    keras.layers.Flatten(input_shape=(28,28)),\n",
        "    keras.layers.Dense(128, activation=tf.nn.relu),\n",
        "    keras.layers.Dense(numClasses, activation='softmax')\n",
        "])"
      ]
    },
    {
      "cell_type": "code",
      "execution_count": 16,
      "metadata": {},
      "outputs": [],
      "source": [
        "model.compile(optimizer=\"adam\", \n",
        "              loss=tf.keras.losses.SparseCategoricalCrossentropy(from_logits=True),\n",
        "              metrics=[\"accuracy\"])\n"
      ]
    },
    {
      "cell_type": "code",
      "execution_count": 17,
      "metadata": {},
      "outputs": [
        {
          "name": "stdout",
          "output_type": "stream",
          "text": [
            "Epoch 1/100\n"
          ]
        },
        {
          "name": "stderr",
          "output_type": "stream",
          "text": [
            "C:\\Users\\Jin\\anaconda3\\envs\\DL\\lib\\site-packages\\tensorflow\\python\\util\\dispatch.py:1082: UserWarning: \"`sparse_categorical_crossentropy` received `from_logits=True`, but the `output` argument was produced by a sigmoid or softmax activation and thus does not represent logits. Was this intended?\"\n",
            "  return dispatch_target(*args, **kwargs)\n"
          ]
        },
        {
          "name": "stdout",
          "output_type": "stream",
          "text": [
            "469/469 [==============================] - 4s 3ms/step - loss: 0.3588 - accuracy: 0.9021\n",
            "Epoch 2/100\n",
            "469/469 [==============================] - 1s 3ms/step - loss: 0.1646 - accuracy: 0.9536\n",
            "Epoch 3/100\n",
            "469/469 [==============================] - 1s 3ms/step - loss: 0.1186 - accuracy: 0.9667\n",
            "Epoch 4/100\n",
            "469/469 [==============================] - 1s 3ms/step - loss: 0.0918 - accuracy: 0.9736\n",
            "Epoch 5/100\n",
            "469/469 [==============================] - 1s 3ms/step - loss: 0.0736 - accuracy: 0.9792\n",
            "Epoch 6/100\n",
            "469/469 [==============================] - 1s 3ms/step - loss: 0.0612 - accuracy: 0.9819\n",
            "Epoch 7/100\n",
            "469/469 [==============================] - 1s 3ms/step - loss: 0.0500 - accuracy: 0.9857\n",
            "Epoch 8/100\n",
            "469/469 [==============================] - 1s 3ms/step - loss: 0.0425 - accuracy: 0.9881\n",
            "Epoch 9/100\n",
            "469/469 [==============================] - 1s 3ms/step - loss: 0.0361 - accuracy: 0.9899\n",
            "Epoch 10/100\n",
            "469/469 [==============================] - 1s 3ms/step - loss: 0.0300 - accuracy: 0.9919\n",
            "Epoch 11/100\n",
            "469/469 [==============================] - 1s 3ms/step - loss: 0.0248 - accuracy: 0.9941\n",
            "Epoch 12/100\n",
            "469/469 [==============================] - 1s 3ms/step - loss: 0.0220 - accuracy: 0.9945\n",
            "Epoch 13/100\n",
            "469/469 [==============================] - 1s 3ms/step - loss: 0.0184 - accuracy: 0.9954\n",
            "Epoch 14/100\n",
            "469/469 [==============================] - 1s 3ms/step - loss: 0.0151 - accuracy: 0.9965\n",
            "Epoch 15/100\n",
            "469/469 [==============================] - 1s 3ms/step - loss: 0.0130 - accuracy: 0.9973\n",
            "Epoch 16/100\n",
            "469/469 [==============================] - 1s 2ms/step - loss: 0.0111 - accuracy: 0.9977\n",
            "Epoch 17/100\n",
            "469/469 [==============================] - 1s 2ms/step - loss: 0.0096 - accuracy: 0.9981\n",
            "Epoch 18/100\n",
            "469/469 [==============================] - 1s 2ms/step - loss: 0.0083 - accuracy: 0.9985\n",
            "Epoch 19/100\n",
            "469/469 [==============================] - 1s 3ms/step - loss: 0.0070 - accuracy: 0.9989\n",
            "Epoch 20/100\n",
            "469/469 [==============================] - 1s 3ms/step - loss: 0.0064 - accuracy: 0.9989\n",
            "Epoch 21/100\n",
            "469/469 [==============================] - 1s 3ms/step - loss: 0.0047 - accuracy: 0.9994\n",
            "Epoch 22/100\n",
            "469/469 [==============================] - 1s 3ms/step - loss: 0.0051 - accuracy: 0.9991\n",
            "Epoch 23/100\n",
            "469/469 [==============================] - 1s 3ms/step - loss: 0.0058 - accuracy: 0.9989\n",
            "Epoch 24/100\n",
            "469/469 [==============================] - 1s 3ms/step - loss: 0.0033 - accuracy: 0.9996\n",
            "Epoch 25/100\n",
            "469/469 [==============================] - 1s 3ms/step - loss: 0.0024 - accuracy: 0.9997\n",
            "Epoch 26/100\n",
            "469/469 [==============================] - 1s 3ms/step - loss: 0.0037 - accuracy: 0.9993\n",
            "Epoch 27/100\n",
            "469/469 [==============================] - 1s 3ms/step - loss: 0.0035 - accuracy: 0.9994\n",
            "Epoch 28/100\n",
            "469/469 [==============================] - 1s 3ms/step - loss: 0.0038 - accuracy: 0.9990\n",
            "Epoch 29/100\n",
            "469/469 [==============================] - 1s 3ms/step - loss: 0.0053 - accuracy: 0.9986\n",
            "Epoch 30/100\n",
            "469/469 [==============================] - 1s 3ms/step - loss: 0.0015 - accuracy: 0.9999\n",
            "Epoch 31/100\n",
            "469/469 [==============================] - 1s 3ms/step - loss: 8.5697e-04 - accuracy: 1.0000\n",
            "Epoch 32/100\n",
            "469/469 [==============================] - 1s 3ms/step - loss: 0.0011 - accuracy: 0.9998\n",
            "Epoch 33/100\n",
            "469/469 [==============================] - 1s 3ms/step - loss: 5.3153e-04 - accuracy: 1.0000\n",
            "Epoch 34/100\n",
            "469/469 [==============================] - 1s 3ms/step - loss: 4.4678e-04 - accuracy: 1.0000\n",
            "Epoch 35/100\n",
            "469/469 [==============================] - 1s 3ms/step - loss: 3.9945e-04 - accuracy: 1.0000\n",
            "Epoch 36/100\n",
            "469/469 [==============================] - 1s 3ms/step - loss: 3.7455e-04 - accuracy: 1.0000\n",
            "Epoch 37/100\n",
            "469/469 [==============================] - 1s 3ms/step - loss: 0.0130 - accuracy: 0.9958\n",
            "Epoch 38/100\n",
            "469/469 [==============================] - 1s 3ms/step - loss: 0.0018 - accuracy: 0.9997\n",
            "Epoch 39/100\n",
            "469/469 [==============================] - 1s 3ms/step - loss: 6.8507e-04 - accuracy: 1.0000\n",
            "Epoch 40/100\n",
            "469/469 [==============================] - 1s 3ms/step - loss: 3.4975e-04 - accuracy: 1.0000\n",
            "Epoch 41/100\n",
            "469/469 [==============================] - 1s 3ms/step - loss: 2.6961e-04 - accuracy: 1.0000\n",
            "Epoch 42/100\n",
            "469/469 [==============================] - 1s 3ms/step - loss: 2.4028e-04 - accuracy: 1.0000\n",
            "Epoch 43/100\n",
            "469/469 [==============================] - 1s 3ms/step - loss: 2.1256e-04 - accuracy: 1.0000\n",
            "Epoch 44/100\n",
            "469/469 [==============================] - 1s 3ms/step - loss: 1.9241e-04 - accuracy: 1.0000\n",
            "Epoch 45/100\n",
            "469/469 [==============================] - 1s 3ms/step - loss: 1.7758e-04 - accuracy: 1.0000\n",
            "Epoch 46/100\n",
            "469/469 [==============================] - 1s 3ms/step - loss: 0.0096 - accuracy: 0.9970\n",
            "Epoch 47/100\n",
            "469/469 [==============================] - 1s 3ms/step - loss: 0.0017 - accuracy: 0.9997\n",
            "Epoch 48/100\n",
            "469/469 [==============================] - 1s 3ms/step - loss: 5.9439e-04 - accuracy: 1.0000\n",
            "Epoch 49/100\n",
            "469/469 [==============================] - 1s 3ms/step - loss: 2.2571e-04 - accuracy: 1.0000\n",
            "Epoch 50/100\n",
            "469/469 [==============================] - 1s 3ms/step - loss: 1.7699e-04 - accuracy: 1.0000\n",
            "Epoch 51/100\n",
            "469/469 [==============================] - 1s 3ms/step - loss: 1.5251e-04 - accuracy: 1.0000\n",
            "Epoch 52/100\n",
            "469/469 [==============================] - 1s 3ms/step - loss: 1.3588e-04 - accuracy: 1.0000\n",
            "Epoch 53/100\n",
            "469/469 [==============================] - 1s 3ms/step - loss: 1.2312e-04 - accuracy: 1.0000\n",
            "Epoch 54/100\n",
            "469/469 [==============================] - 1s 3ms/step - loss: 1.1143e-04 - accuracy: 1.0000\n",
            "Epoch 55/100\n",
            "469/469 [==============================] - 1s 3ms/step - loss: 1.0133e-04 - accuracy: 1.0000\n",
            "Epoch 56/100\n",
            "469/469 [==============================] - 1s 3ms/step - loss: 1.0001e-04 - accuracy: 1.0000\n",
            "Epoch 57/100\n",
            "469/469 [==============================] - 1s 3ms/step - loss: 0.0090 - accuracy: 0.9974\n",
            "Epoch 58/100\n",
            "469/469 [==============================] - 1s 3ms/step - loss: 0.0069 - accuracy: 0.9977\n",
            "Epoch 59/100\n",
            "469/469 [==============================] - 1s 3ms/step - loss: 6.2859e-04 - accuracy: 0.9999\n",
            "Epoch 60/100\n",
            "469/469 [==============================] - 1s 3ms/step - loss: 2.1497e-04 - accuracy: 1.0000\n",
            "Epoch 61/100\n",
            "469/469 [==============================] - 1s 3ms/step - loss: 1.4484e-04 - accuracy: 1.0000\n",
            "Epoch 62/100\n",
            "469/469 [==============================] - 1s 3ms/step - loss: 1.2246e-04 - accuracy: 1.0000\n",
            "Epoch 63/100\n",
            "469/469 [==============================] - 1s 3ms/step - loss: 1.0749e-04 - accuracy: 1.0000\n",
            "Epoch 64/100\n",
            "469/469 [==============================] - 1s 3ms/step - loss: 9.5312e-05 - accuracy: 1.0000\n",
            "Epoch 65/100\n",
            "469/469 [==============================] - 1s 3ms/step - loss: 8.5109e-05 - accuracy: 1.0000\n",
            "Epoch 66/100\n",
            "469/469 [==============================] - 1s 3ms/step - loss: 7.7252e-05 - accuracy: 1.0000\n",
            "Epoch 67/100\n",
            "469/469 [==============================] - 1s 3ms/step - loss: 6.8880e-05 - accuracy: 1.0000\n",
            "Epoch 68/100\n",
            "469/469 [==============================] - 1s 3ms/step - loss: 6.1553e-05 - accuracy: 1.0000\n",
            "Epoch 69/100\n",
            "469/469 [==============================] - 1s 3ms/step - loss: 5.5783e-05 - accuracy: 1.0000\n",
            "Epoch 70/100\n",
            "469/469 [==============================] - 1s 3ms/step - loss: 4.9754e-05 - accuracy: 1.0000\n",
            "Epoch 71/100\n",
            "469/469 [==============================] - 1s 3ms/step - loss: 4.4381e-05 - accuracy: 1.0000\n",
            "Epoch 72/100\n",
            "469/469 [==============================] - 1s 3ms/step - loss: 4.8898e-05 - accuracy: 1.0000\n",
            "Epoch 73/100\n",
            "469/469 [==============================] - 1s 3ms/step - loss: 0.0144 - accuracy: 0.9958\n",
            "Epoch 74/100\n",
            "469/469 [==============================] - 1s 3ms/step - loss: 9.1034e-04 - accuracy: 0.9998\n",
            "Epoch 75/100\n",
            "469/469 [==============================] - 1s 3ms/step - loss: 1.5767e-04 - accuracy: 1.0000\n",
            "Epoch 76/100\n",
            "469/469 [==============================] - 1s 3ms/step - loss: 1.0670e-04 - accuracy: 1.0000\n",
            "Epoch 77/100\n",
            "469/469 [==============================] - 1s 3ms/step - loss: 8.7014e-05 - accuracy: 1.0000\n",
            "Epoch 78/100\n",
            "469/469 [==============================] - 1s 3ms/step - loss: 7.4749e-05 - accuracy: 1.0000\n",
            "Epoch 79/100\n",
            "469/469 [==============================] - 1s 3ms/step - loss: 6.5516e-05 - accuracy: 1.0000\n",
            "Epoch 80/100\n",
            "469/469 [==============================] - 1s 3ms/step - loss: 5.8343e-05 - accuracy: 1.0000\n",
            "Epoch 81/100\n",
            "469/469 [==============================] - 1s 3ms/step - loss: 5.1251e-05 - accuracy: 1.0000\n",
            "Epoch 82/100\n",
            "469/469 [==============================] - 1s 3ms/step - loss: 4.5104e-05 - accuracy: 1.0000\n",
            "Epoch 83/100\n",
            "469/469 [==============================] - 1s 3ms/step - loss: 4.0864e-05 - accuracy: 1.0000\n",
            "Epoch 84/100\n",
            "469/469 [==============================] - 1s 3ms/step - loss: 3.6373e-05 - accuracy: 1.0000\n",
            "Epoch 85/100\n",
            "469/469 [==============================] - 1s 3ms/step - loss: 3.2585e-05 - accuracy: 1.0000\n",
            "Epoch 86/100\n",
            "469/469 [==============================] - 1s 3ms/step - loss: 2.9229e-05 - accuracy: 1.0000\n",
            "Epoch 87/100\n",
            "469/469 [==============================] - 1s 3ms/step - loss: 2.6097e-05 - accuracy: 1.0000\n",
            "Epoch 88/100\n",
            "469/469 [==============================] - 1s 3ms/step - loss: 2.3873e-05 - accuracy: 1.0000\n",
            "Epoch 89/100\n",
            "469/469 [==============================] - 1s 3ms/step - loss: 2.2240e-05 - accuracy: 1.0000\n",
            "Epoch 90/100\n",
            "469/469 [==============================] - 1s 3ms/step - loss: 0.0122 - accuracy: 0.9964\n",
            "Epoch 91/100\n",
            "469/469 [==============================] - 1s 3ms/step - loss: 0.0023 - accuracy: 0.9994\n",
            "Epoch 92/100\n",
            "469/469 [==============================] - 1s 3ms/step - loss: 4.3181e-04 - accuracy: 0.9999\n",
            "Epoch 93/100\n",
            "469/469 [==============================] - 1s 3ms/step - loss: 8.8103e-05 - accuracy: 1.0000\n",
            "Epoch 94/100\n",
            "469/469 [==============================] - 1s 3ms/step - loss: 5.5998e-05 - accuracy: 1.0000\n",
            "Epoch 95/100\n",
            "469/469 [==============================] - 1s 3ms/step - loss: 4.7964e-05 - accuracy: 1.0000\n",
            "Epoch 96/100\n",
            "469/469 [==============================] - 1s 3ms/step - loss: 4.1649e-05 - accuracy: 1.0000\n",
            "Epoch 97/100\n",
            "469/469 [==============================] - 1s 3ms/step - loss: 3.6564e-05 - accuracy: 1.0000\n",
            "Epoch 98/100\n",
            "469/469 [==============================] - 1s 3ms/step - loss: 3.2702e-05 - accuracy: 1.0000\n",
            "Epoch 99/100\n",
            "469/469 [==============================] - 1s 3ms/step - loss: 2.9188e-05 - accuracy: 1.0000\n",
            "Epoch 100/100\n",
            "469/469 [==============================] - 1s 3ms/step - loss: 2.6227e-05 - accuracy: 1.0000\n"
          ]
        }
      ],
      "source": [
        "history = model.fit(trainImages, trainLabels, \n",
        "                    epochs=epochs, batch_size=batchSize)"
      ]
    },
    {
      "cell_type": "code",
      "execution_count": 19,
      "metadata": {},
      "outputs": [
        {
          "name": "stdout",
          "output_type": "stream",
          "text": [
            "313/313 [==============================] - 1s 2ms/step - loss: 0.1315 - accuracy: 0.9814\n",
            "0.13148009777069092 0.9814000129699707\n"
          ]
        }
      ],
      "source": [
        "# Evaluate the model using test dataset\n",
        "testLoss, testAccuracy = model.evaluate(testImages, testLabels)\n",
        "print(testLoss, testAccuracy)"
      ]
    },
    {
      "cell_type": "code",
      "execution_count": null,
      "metadata": {},
      "outputs": [],
      "source": []
    }
  ],
  "metadata": {
    "colab": {
      "name": "theBasicDeepLearing.ipynb",
      "provenance": []
    },
    "kernelspec": {
      "display_name": "Python 3",
      "name": "python3"
    },
    "language_info": {
      "codemirror_mode": {
        "name": "ipython",
        "version": 3
      },
      "file_extension": ".py",
      "mimetype": "text/x-python",
      "name": "python",
      "nbconvert_exporter": "python",
      "pygments_lexer": "ipython3",
      "version": "3.8.12"
    }
  },
  "nbformat": 4,
  "nbformat_minor": 0
}
