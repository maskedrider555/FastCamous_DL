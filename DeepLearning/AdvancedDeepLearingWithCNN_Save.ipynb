{
  "cells": [
    {
      "cell_type": "code",
      "execution_count": 1,
      "metadata": {
        "colab": {
          "base_uri": "https://localhost:8080/"
        },
        "id": "Tjg0Ovk0KNuB",
        "outputId": "ee707a66-c70d-44c6-d9ae-854e1fc692f5"
      },
      "outputs": [
        {
          "name": "stdout",
          "output_type": "stream",
          "text": [
            "2.8.0\n"
          ]
        }
      ],
      "source": [
        "# TensorFlow and tf.keras\n",
        "import tensorflow as tf\n",
        "from tensorflow import keras\n",
        "# Helper libraries\n",
        "import numpy as np\n",
        "import matplotlib.pyplot as plt\n",
        "import math\n",
        "\n",
        "print(tf.__version__)"
      ]
    },
    {
      "cell_type": "code",
      "execution_count": 2,
      "metadata": {},
      "outputs": [],
      "source": [
        "# Define Constant\n",
        "batchSize = 128\n",
        "epochs = 100\n",
        "numClasses = 10 #mnist (0~9)"
      ]
    },
    {
      "cell_type": "code",
      "execution_count": 3,
      "metadata": {},
      "outputs": [],
      "source": [
        "# Downliad MNIST Dataset\n",
        "mnist = keras.datasets.mnist\n",
        "(trainImages, trainLabels), (testImages, testLabels) = mnist.load_data()"
      ]
    },
    {
      "cell_type": "code",
      "execution_count": 4,
      "metadata": {},
      "outputs": [
        {
          "name": "stdout",
          "output_type": "stream",
          "text": [
            "60000\n",
            "10000\n"
          ]
        }
      ],
      "source": [
        "print(len(trainImages))\n",
        "print(len(testImages))"
      ]
    },
    {
      "cell_type": "code",
      "execution_count": 5,
      "metadata": {},
      "outputs": [],
      "source": [
        "# Normalize the input image so that each pixel values is between 0 to 1\n",
        "trainImages = trainImages/255.0\n",
        "testImages = testImages/255.0\n"
      ]
    },
    {
      "cell_type": "code",
      "execution_count": 6,
      "metadata": {},
      "outputs": [],
      "source": [
        "# Define the model architecture with CNN\n",
        "model = keras.Sequential([\n",
        "    # Input Layers\n",
        "    keras.layers.Flatten(input_shape=(28,28)),\n",
        "    \n",
        "    # Hidden Layers\n",
        "    # keras.layers.Dense(128, activation=tf.nn.relu),\n",
        "    keras.layers.Reshape(target_shape=(28,28,1)),\n",
        "    keras.layers.Conv2D(filters=32, kernel_size=(3,3), activation = tf.nn.relu),\n",
        "    keras.layers.Conv2D(filters=64, kernel_size=(3,3), activation = tf.nn.relu),\n",
        "    keras.layers.MaxPooling2D(pool_size=(2,2)),\n",
        "    keras.layers.Dropout(0.25),\n",
        "    keras.layers.Flatten(input_shape=(28,28)),\n",
        "    keras.layers.Dense(128, activation = tf.nn.relu),\n",
        "    keras.layers.Dropout(0.5),\n",
        "    \n",
        "    # Output Layers\n",
        "    keras.layers.Dense(numClasses, activation='softmax')\n",
        "])\n",
        "\n",
        "model.compile(optimizer=\"adam\", \n",
        "              loss=tf.keras.losses.SparseCategoricalCrossentropy(from_logits=True),\n",
        "              metrics=[\"accuracy\"])"
      ]
    },
    {
      "cell_type": "code",
      "execution_count": 10,
      "metadata": {},
      "outputs": [],
      "source": [
        "# Save the best model as digit_model.h5\n",
        "filePath = \"./model/digits_model.h5\"\n",
        "modelCheckPoint = tf.keras.callbacks.ModelCheckpoint(filepath=filePath, save_best_only=True)"
      ]
    },
    {
      "cell_type": "code",
      "execution_count": 12,
      "metadata": {},
      "outputs": [
        {
          "name": "stdout",
          "output_type": "stream",
          "text": [
            "Epoch 1/100\n",
            "469/469 [==============================] - 5s 10ms/step - loss: 0.0083 - accuracy: 0.9973 - val_loss: 0.0356 - val_accuracy: 0.9933\n",
            "Epoch 2/100\n",
            "469/469 [==============================] - 5s 10ms/step - loss: 0.0087 - accuracy: 0.9972 - val_loss: 0.0364 - val_accuracy: 0.9935\n",
            "Epoch 3/100\n",
            "469/469 [==============================] - 5s 10ms/step - loss: 0.0071 - accuracy: 0.9976 - val_loss: 0.0375 - val_accuracy: 0.9930\n",
            "Epoch 4/100\n",
            "469/469 [==============================] - 5s 10ms/step - loss: 0.0062 - accuracy: 0.9978 - val_loss: 0.0365 - val_accuracy: 0.9921\n",
            "Epoch 5/100\n",
            "469/469 [==============================] - 5s 10ms/step - loss: 0.0073 - accuracy: 0.9975 - val_loss: 0.0383 - val_accuracy: 0.9933\n",
            "Epoch 6/100\n",
            "469/469 [==============================] - 5s 10ms/step - loss: 0.0078 - accuracy: 0.9975 - val_loss: 0.0358 - val_accuracy: 0.9940\n",
            "Epoch 7/100\n",
            "469/469 [==============================] - 5s 10ms/step - loss: 0.0076 - accuracy: 0.9976 - val_loss: 0.0364 - val_accuracy: 0.9933\n",
            "Epoch 8/100\n",
            "469/469 [==============================] - 5s 10ms/step - loss: 0.0075 - accuracy: 0.9974 - val_loss: 0.0380 - val_accuracy: 0.9931\n",
            "Epoch 9/100\n",
            "469/469 [==============================] - 5s 10ms/step - loss: 0.0067 - accuracy: 0.9978 - val_loss: 0.0383 - val_accuracy: 0.9931\n",
            "Epoch 10/100\n",
            "469/469 [==============================] - 5s 10ms/step - loss: 0.0074 - accuracy: 0.9976 - val_loss: 0.0388 - val_accuracy: 0.9929\n",
            "Epoch 11/100\n",
            "469/469 [==============================] - 5s 10ms/step - loss: 0.0061 - accuracy: 0.9980 - val_loss: 0.0398 - val_accuracy: 0.9928\n",
            "Epoch 12/100\n",
            "469/469 [==============================] - 5s 10ms/step - loss: 0.0065 - accuracy: 0.9979 - val_loss: 0.0407 - val_accuracy: 0.9926\n",
            "Epoch 13/100\n",
            "469/469 [==============================] - 5s 10ms/step - loss: 0.0056 - accuracy: 0.9981 - val_loss: 0.0437 - val_accuracy: 0.9930\n",
            "Epoch 14/100\n",
            "469/469 [==============================] - 5s 10ms/step - loss: 0.0061 - accuracy: 0.9980 - val_loss: 0.0395 - val_accuracy: 0.9934\n",
            "Epoch 15/100\n",
            "469/469 [==============================] - 5s 10ms/step - loss: 0.0063 - accuracy: 0.9979 - val_loss: 0.0469 - val_accuracy: 0.9930\n",
            "Epoch 16/100\n",
            "469/469 [==============================] - 5s 10ms/step - loss: 0.0073 - accuracy: 0.9974 - val_loss: 0.0437 - val_accuracy: 0.9930\n",
            "Epoch 17/100\n",
            "469/469 [==============================] - 5s 10ms/step - loss: 0.0067 - accuracy: 0.9977 - val_loss: 0.0450 - val_accuracy: 0.9929\n",
            "Epoch 18/100\n",
            "469/469 [==============================] - 5s 10ms/step - loss: 0.0054 - accuracy: 0.9981 - val_loss: 0.0427 - val_accuracy: 0.9929\n",
            "Epoch 19/100\n",
            "469/469 [==============================] - 5s 11ms/step - loss: 0.0059 - accuracy: 0.9982 - val_loss: 0.0397 - val_accuracy: 0.9928\n",
            "Epoch 20/100\n",
            "469/469 [==============================] - 5s 10ms/step - loss: 0.0054 - accuracy: 0.9984 - val_loss: 0.0415 - val_accuracy: 0.9933\n",
            "Epoch 21/100\n",
            "469/469 [==============================] - 5s 11ms/step - loss: 0.0065 - accuracy: 0.9979 - val_loss: 0.0377 - val_accuracy: 0.9935\n",
            "Epoch 22/100\n",
            "469/469 [==============================] - 5s 11ms/step - loss: 0.0052 - accuracy: 0.9982 - val_loss: 0.0431 - val_accuracy: 0.9923\n",
            "Epoch 23/100\n",
            "469/469 [==============================] - 5s 11ms/step - loss: 0.0066 - accuracy: 0.9981 - val_loss: 0.0373 - val_accuracy: 0.9930\n",
            "Epoch 24/100\n",
            "469/469 [==============================] - 5s 11ms/step - loss: 0.0066 - accuracy: 0.9980 - val_loss: 0.0402 - val_accuracy: 0.9935\n",
            "Epoch 25/100\n",
            "469/469 [==============================] - 5s 10ms/step - loss: 0.0048 - accuracy: 0.9984 - val_loss: 0.0411 - val_accuracy: 0.9936\n",
            "Epoch 26/100\n",
            "469/469 [==============================] - 5s 10ms/step - loss: 0.0050 - accuracy: 0.9985 - val_loss: 0.0455 - val_accuracy: 0.9929\n",
            "Epoch 27/100\n",
            "469/469 [==============================] - 5s 10ms/step - loss: 0.0062 - accuracy: 0.9978 - val_loss: 0.0466 - val_accuracy: 0.9925\n",
            "Epoch 28/100\n",
            "469/469 [==============================] - 5s 12ms/step - loss: 0.0052 - accuracy: 0.9984 - val_loss: 0.0413 - val_accuracy: 0.9930\n",
            "Epoch 29/100\n",
            "469/469 [==============================] - 5s 11ms/step - loss: 0.0061 - accuracy: 0.9979 - val_loss: 0.0416 - val_accuracy: 0.9923\n",
            "Epoch 30/100\n",
            "469/469 [==============================] - 5s 11ms/step - loss: 0.0054 - accuracy: 0.9983 - val_loss: 0.0408 - val_accuracy: 0.9933\n",
            "Epoch 31/100\n",
            "469/469 [==============================] - 5s 11ms/step - loss: 0.0049 - accuracy: 0.9981 - val_loss: 0.0464 - val_accuracy: 0.9925\n",
            "Epoch 32/100\n",
            "469/469 [==============================] - 5s 11ms/step - loss: 0.0044 - accuracy: 0.9984 - val_loss: 0.0422 - val_accuracy: 0.9928\n",
            "Epoch 33/100\n",
            "469/469 [==============================] - 5s 10ms/step - loss: 0.0050 - accuracy: 0.9983 - val_loss: 0.0386 - val_accuracy: 0.9929\n",
            "Epoch 34/100\n",
            "469/469 [==============================] - 5s 10ms/step - loss: 0.0052 - accuracy: 0.9984 - val_loss: 0.0439 - val_accuracy: 0.9918\n",
            "Epoch 35/100\n",
            "469/469 [==============================] - 5s 10ms/step - loss: 0.0050 - accuracy: 0.9982 - val_loss: 0.0502 - val_accuracy: 0.9930\n",
            "Epoch 36/100\n",
            "469/469 [==============================] - 5s 10ms/step - loss: 0.0056 - accuracy: 0.9982 - val_loss: 0.0492 - val_accuracy: 0.9925\n",
            "Epoch 37/100\n",
            "469/469 [==============================] - 5s 11ms/step - loss: 0.0040 - accuracy: 0.9986 - val_loss: 0.0427 - val_accuracy: 0.9930\n",
            "Epoch 38/100\n",
            "469/469 [==============================] - 5s 11ms/step - loss: 0.0052 - accuracy: 0.9983 - val_loss: 0.0459 - val_accuracy: 0.9929\n",
            "Epoch 39/100\n",
            "469/469 [==============================] - 5s 10ms/step - loss: 0.0064 - accuracy: 0.9979 - val_loss: 0.0440 - val_accuracy: 0.9920\n",
            "Epoch 40/100\n",
            "469/469 [==============================] - 5s 11ms/step - loss: 0.0057 - accuracy: 0.9981 - val_loss: 0.0495 - val_accuracy: 0.9922\n",
            "Epoch 41/100\n",
            "469/469 [==============================] - 5s 10ms/step - loss: 0.0045 - accuracy: 0.9987 - val_loss: 0.0448 - val_accuracy: 0.9924\n",
            "Epoch 42/100\n",
            "469/469 [==============================] - 5s 11ms/step - loss: 0.0052 - accuracy: 0.9982 - val_loss: 0.0432 - val_accuracy: 0.9921\n",
            "Epoch 43/100\n",
            "469/469 [==============================] - 5s 11ms/step - loss: 0.0052 - accuracy: 0.9983 - val_loss: 0.0400 - val_accuracy: 0.9934\n",
            "Epoch 44/100\n",
            "469/469 [==============================] - 5s 11ms/step - loss: 0.0039 - accuracy: 0.9987 - val_loss: 0.0456 - val_accuracy: 0.9930\n",
            "Epoch 45/100\n",
            "469/469 [==============================] - 5s 11ms/step - loss: 0.0039 - accuracy: 0.9988 - val_loss: 0.0436 - val_accuracy: 0.9931\n",
            "Epoch 46/100\n",
            "469/469 [==============================] - 5s 11ms/step - loss: 0.0041 - accuracy: 0.9985 - val_loss: 0.0429 - val_accuracy: 0.9933\n",
            "Epoch 47/100\n",
            "469/469 [==============================] - 5s 10ms/step - loss: 0.0053 - accuracy: 0.9983 - val_loss: 0.0485 - val_accuracy: 0.9924\n",
            "Epoch 48/100\n",
            "469/469 [==============================] - 5s 10ms/step - loss: 0.0047 - accuracy: 0.9984 - val_loss: 0.0459 - val_accuracy: 0.9935\n",
            "Epoch 49/100\n",
            "469/469 [==============================] - 5s 10ms/step - loss: 0.0055 - accuracy: 0.9984 - val_loss: 0.0387 - val_accuracy: 0.9937\n",
            "Epoch 50/100\n",
            "469/469 [==============================] - 5s 10ms/step - loss: 0.0034 - accuracy: 0.9988 - val_loss: 0.0409 - val_accuracy: 0.9935\n",
            "Epoch 51/100\n",
            "469/469 [==============================] - 5s 10ms/step - loss: 0.0034 - accuracy: 0.9988 - val_loss: 0.0477 - val_accuracy: 0.9931\n",
            "Epoch 52/100\n",
            "469/469 [==============================] - 5s 10ms/step - loss: 0.0047 - accuracy: 0.9984 - val_loss: 0.0485 - val_accuracy: 0.9933\n",
            "Epoch 53/100\n",
            "469/469 [==============================] - 5s 10ms/step - loss: 0.0049 - accuracy: 0.9984 - val_loss: 0.0453 - val_accuracy: 0.9926\n",
            "Epoch 54/100\n",
            "469/469 [==============================] - 5s 10ms/step - loss: 0.0052 - accuracy: 0.9983 - val_loss: 0.0435 - val_accuracy: 0.9930\n",
            "Epoch 55/100\n",
            "469/469 [==============================] - 5s 10ms/step - loss: 0.0040 - accuracy: 0.9987 - val_loss: 0.0443 - val_accuracy: 0.9933\n",
            "Epoch 56/100\n",
            "469/469 [==============================] - 5s 11ms/step - loss: 0.0042 - accuracy: 0.9987 - val_loss: 0.0523 - val_accuracy: 0.9932\n",
            "Epoch 57/100\n",
            "469/469 [==============================] - 5s 10ms/step - loss: 0.0043 - accuracy: 0.9988 - val_loss: 0.0420 - val_accuracy: 0.9940\n",
            "Epoch 58/100\n",
            "469/469 [==============================] - 5s 10ms/step - loss: 0.0052 - accuracy: 0.9983 - val_loss: 0.0479 - val_accuracy: 0.9932\n",
            "Epoch 59/100\n",
            "469/469 [==============================] - 5s 10ms/step - loss: 0.0046 - accuracy: 0.9984 - val_loss: 0.0513 - val_accuracy: 0.9927\n",
            "Epoch 60/100\n",
            "469/469 [==============================] - 5s 10ms/step - loss: 0.0036 - accuracy: 0.9989 - val_loss: 0.0492 - val_accuracy: 0.9931\n",
            "Epoch 61/100\n",
            "469/469 [==============================] - 5s 10ms/step - loss: 0.0044 - accuracy: 0.9986 - val_loss: 0.0433 - val_accuracy: 0.9931\n",
            "Epoch 62/100\n",
            "469/469 [==============================] - 5s 10ms/step - loss: 0.0038 - accuracy: 0.9988 - val_loss: 0.0461 - val_accuracy: 0.9933\n",
            "Epoch 63/100\n",
            "469/469 [==============================] - 5s 10ms/step - loss: 0.0039 - accuracy: 0.9985 - val_loss: 0.0431 - val_accuracy: 0.9935\n",
            "Epoch 64/100\n",
            "469/469 [==============================] - 5s 11ms/step - loss: 0.0042 - accuracy: 0.9987 - val_loss: 0.0524 - val_accuracy: 0.9928\n",
            "Epoch 65/100\n",
            "469/469 [==============================] - 5s 11ms/step - loss: 0.0053 - accuracy: 0.9983 - val_loss: 0.0449 - val_accuracy: 0.9933\n",
            "Epoch 66/100\n",
            "469/469 [==============================] - 5s 11ms/step - loss: 0.0053 - accuracy: 0.9985 - val_loss: 0.0449 - val_accuracy: 0.9937\n",
            "Epoch 67/100\n",
            "469/469 [==============================] - 5s 11ms/step - loss: 0.0046 - accuracy: 0.9986 - val_loss: 0.0468 - val_accuracy: 0.9929\n",
            "Epoch 68/100\n",
            "469/469 [==============================] - 5s 11ms/step - loss: 0.0032 - accuracy: 0.9990 - val_loss: 0.0483 - val_accuracy: 0.9927\n",
            "Epoch 69/100\n",
            "469/469 [==============================] - 5s 10ms/step - loss: 0.0032 - accuracy: 0.9990 - val_loss: 0.0504 - val_accuracy: 0.9934\n",
            "Epoch 70/100\n",
            "469/469 [==============================] - 5s 10ms/step - loss: 0.0040 - accuracy: 0.9987 - val_loss: 0.0450 - val_accuracy: 0.9942\n",
            "Epoch 71/100\n",
            "469/469 [==============================] - 5s 10ms/step - loss: 0.0040 - accuracy: 0.9986 - val_loss: 0.0514 - val_accuracy: 0.9931\n",
            "Epoch 72/100\n",
            "469/469 [==============================] - 5s 10ms/step - loss: 0.0042 - accuracy: 0.9985 - val_loss: 0.0510 - val_accuracy: 0.9930\n",
            "Epoch 73/100\n",
            "469/469 [==============================] - 5s 11ms/step - loss: 0.0040 - accuracy: 0.9987 - val_loss: 0.0504 - val_accuracy: 0.9930\n",
            "Epoch 74/100\n",
            "469/469 [==============================] - 5s 11ms/step - loss: 0.0043 - accuracy: 0.9987 - val_loss: 0.0486 - val_accuracy: 0.9933\n",
            "Epoch 75/100\n",
            "469/469 [==============================] - 5s 11ms/step - loss: 0.0042 - accuracy: 0.9985 - val_loss: 0.0465 - val_accuracy: 0.9931\n",
            "Epoch 76/100\n",
            "469/469 [==============================] - 5s 11ms/step - loss: 0.0041 - accuracy: 0.9986 - val_loss: 0.0436 - val_accuracy: 0.9941\n",
            "Epoch 77/100\n",
            "469/469 [==============================] - 5s 11ms/step - loss: 0.0035 - accuracy: 0.9990 - val_loss: 0.0453 - val_accuracy: 0.9941\n",
            "Epoch 78/100\n",
            "469/469 [==============================] - 5s 10ms/step - loss: 0.0033 - accuracy: 0.9987 - val_loss: 0.0529 - val_accuracy: 0.9932\n",
            "Epoch 79/100\n",
            "469/469 [==============================] - 5s 10ms/step - loss: 0.0040 - accuracy: 0.9986 - val_loss: 0.0500 - val_accuracy: 0.9935\n",
            "Epoch 80/100\n",
            "469/469 [==============================] - 5s 10ms/step - loss: 0.0044 - accuracy: 0.9986 - val_loss: 0.0468 - val_accuracy: 0.9942\n",
            "Epoch 81/100\n",
            "469/469 [==============================] - 5s 11ms/step - loss: 0.0040 - accuracy: 0.9988 - val_loss: 0.0457 - val_accuracy: 0.9935\n",
            "Epoch 82/100\n",
            "469/469 [==============================] - 5s 11ms/step - loss: 0.0042 - accuracy: 0.9988 - val_loss: 0.0461 - val_accuracy: 0.9932\n",
            "Epoch 83/100\n",
            "469/469 [==============================] - 5s 11ms/step - loss: 0.0035 - accuracy: 0.9987 - val_loss: 0.0562 - val_accuracy: 0.9935\n",
            "Epoch 84/100\n",
            "469/469 [==============================] - 5s 11ms/step - loss: 0.0036 - accuracy: 0.9990 - val_loss: 0.0512 - val_accuracy: 0.9935\n",
            "Epoch 85/100\n",
            "469/469 [==============================] - 5s 11ms/step - loss: 0.0034 - accuracy: 0.9990 - val_loss: 0.0452 - val_accuracy: 0.9932\n",
            "Epoch 86/100\n",
            "469/469 [==============================] - 5s 11ms/step - loss: 0.0031 - accuracy: 0.9989 - val_loss: 0.0601 - val_accuracy: 0.9937\n",
            "Epoch 87/100\n",
            "469/469 [==============================] - 5s 11ms/step - loss: 0.0034 - accuracy: 0.9990 - val_loss: 0.0648 - val_accuracy: 0.9929\n",
            "Epoch 88/100\n",
            "469/469 [==============================] - 5s 10ms/step - loss: 0.0046 - accuracy: 0.9987 - val_loss: 0.0542 - val_accuracy: 0.9938\n",
            "Epoch 89/100\n",
            "469/469 [==============================] - 5s 10ms/step - loss: 0.0042 - accuracy: 0.9987 - val_loss: 0.0509 - val_accuracy: 0.9935\n",
            "Epoch 90/100\n",
            "469/469 [==============================] - 5s 10ms/step - loss: 0.0034 - accuracy: 0.9990 - val_loss: 0.0552 - val_accuracy: 0.9937\n",
            "Epoch 91/100\n",
            "469/469 [==============================] - 5s 10ms/step - loss: 0.0041 - accuracy: 0.9987 - val_loss: 0.0457 - val_accuracy: 0.9938\n",
            "Epoch 92/100\n",
            "469/469 [==============================] - 5s 11ms/step - loss: 0.0036 - accuracy: 0.9989 - val_loss: 0.0461 - val_accuracy: 0.9939\n",
            "Epoch 93/100\n",
            "469/469 [==============================] - 5s 11ms/step - loss: 0.0034 - accuracy: 0.9988 - val_loss: 0.0499 - val_accuracy: 0.9938\n",
            "Epoch 94/100\n",
            "469/469 [==============================] - 5s 11ms/step - loss: 0.0037 - accuracy: 0.9988 - val_loss: 0.0544 - val_accuracy: 0.9935\n",
            "Epoch 95/100\n",
            "419/469 [=========================>....] - ETA: 0s - loss: 0.0040 - accuracy: 0.9988"
          ]
        }
      ],
      "source": [
        "history = model.fit(trainImages, trainLabels, \n",
        "                    validation_data=(testImages, testLabels),\n",
        "                    epochs=epochs, batch_size=batchSize,\n",
        "                    callbacks=[modelCheckPoint])"
      ]
    },
    {
      "cell_type": "code",
      "execution_count": null,
      "metadata": {},
      "outputs": [],
      "source": [
        "# Download the digit classification model if you use Colab\n",
        "download(filePath)"
      ]
    },
    {
      "cell_type": "code",
      "execution_count": null,
      "metadata": {},
      "outputs": [
        {
          "name": "stdout",
          "output_type": "stream",
          "text": [
            "313/313 [==============================] - 1s 2ms/step - loss: 0.1368 - accuracy: 0.9796\n",
            "0.1368352174758911 0.9796000123023987\n"
          ]
        }
      ],
      "source": [
        "# Evaluate the model using test dataset\n",
        "testLoss, testAccuracy = model.evaluate(testImages, testLabels)\n",
        "print(testLoss, testAccuracy)"
      ]
    },
    {
      "cell_type": "code",
      "execution_count": null,
      "metadata": {},
      "outputs": [],
      "source": [
        "# Helper function to display digit images\n",
        "def show_sample(images, labels, sample_count=25):\n",
        "  # Create a square with can fit {sample_count} images\n",
        "  grid_count = math.ceil(math.ceil(math.sqrt(sample_count)))\n",
        "  grid_count = min(grid_count, len(images), len(labels))\n",
        "  \n",
        "  plt.figure(figsize=(2*grid_count, 2*grid_count))\n",
        "  for i in range(sample_count):\n",
        "    plt.subplot(grid_count, grid_count, i+1)\n",
        "    plt.xticks([])\n",
        "    plt.yticks([])\n",
        "    plt.grid(False)\n",
        "    plt.imshow(images[i], cmap=plt.cm.gray)\n",
        "    plt.xlabel(labels[i])\n",
        "  plt.show()\n",
        "\n",
        "# Helper function to display specific digit images\n",
        "def show_sample_digit(images, labels, digit, sample_count=25):\n",
        "  # Create a square with can fit {sample_count} images\n",
        "  grid_count = math.ceil(math.ceil(math.sqrt(sample_count)))\n",
        "  grid_count = min(grid_count, len(images), len(labels))\n",
        "  \n",
        "  plt.figure(figsize=(2*grid_count, 2*grid_count))\n",
        "  i = 0\n",
        "  digit_count = 0\n",
        "  while digit_count < sample_count:\n",
        "    i += 1\n",
        "    if (digit == labels[i]):\n",
        "      plt.subplot(grid_count, grid_count, digit_count+1)\n",
        "      plt.xticks([])\n",
        "      plt.yticks([])\n",
        "      plt.grid(False)\n",
        "      plt.imshow(images[i], cmap=plt.cm.gray)\n",
        "      plt.xlabel(labels[i])\n",
        "      digit_count += 1\n",
        "  plt.show()\n",
        "\n",
        "\n",
        "# Helper function to display specific digit images\n",
        "def show_digit_image(image):\n",
        "  # Draw digit image\n",
        "  fig = plt.figure()\n",
        "  ax = fig.add_subplot(1, 1, 1)\n",
        "  # Major ticks every 20, minor ticks every 5\n",
        "  major_ticks = np.arange(0, 29, 5)\n",
        "  minor_ticks = np.arange(0, 29, 1)\n",
        "  ax.set_xticks(major_ticks)\n",
        "  ax.set_xticks(minor_ticks, minor=True)\n",
        "  ax.set_yticks(major_ticks)\n",
        "  ax.set_yticks(minor_ticks, minor=True)\n",
        "  # And a corresponding grid\n",
        "  ax.grid(which='both')\n",
        "  # Or if you want different settings for the grids:\n",
        "  ax.grid(which='minor', alpha=0.2)\n",
        "  ax.grid(which='major', alpha=0.5)\n",
        "  ax.imshow(image, cmap=plt.cm.binary)\n",
        "\n",
        "  plt.show()\n",
        "  \n",
        "  \n",
        "# Download the digit classification model if you're using Colab,\n",
        "# or print the model's local path if you're not using Colab.\n",
        "def download(path):\n",
        "    try:\n",
        "        from google.colab import files\n",
        "        files.download(path)\n",
        "    except ImportError:\n",
        "        import os\n",
        "        print('Error dowbload:', os.path.join(os,getcwd(), path))"
      ]
    },
    {
      "cell_type": "code",
      "execution_count": null,
      "metadata": {},
      "outputs": [
        {
          "data": {
            "image/png": "[encoded data removed]",
            "text/plain": [
              "<Figure size 720x720 with 25 Axes>"
            ]
          },
          "metadata": {},
          "output_type": "display_data"
        }
      ],
      "source": [
        "# Show the first 25 images in the training dataset.\n",
        "show_sample(testImages, ['Label: %s' % label for label in testLabels])"
      ]
    },
    {
      "cell_type": "code",
      "execution_count": null,
      "metadata": {},
      "outputs": [
        {
          "data": {
            "image/png": "[encoded data removed]",
            "text/plain": [
              "<Figure size 720x720 with 25 Axes>"
            ]
          },
          "metadata": {},
          "output_type": "display_data"
        }
      ],
      "source": [
        "# Show digit 7 the first 25 images in the training dataset.\n",
        "show_sample_digit(trainImages, trainLabels, 7, sample_count=25)\n"
      ]
    },
    {
      "cell_type": "code",
      "execution_count": null,
      "metadata": {},
      "outputs": [
        {
          "data": {
            "text/plain": [
              "Text(0, 0.5, 'loss')"
            ]
          },
          "execution_count": 17,
          "metadata": {},
          "output_type": "execute_result"
        },
        {
          "data": {
            "image/png": "[encoded data removed]",
            "text/plain": [
              "<Figure size 432x288 with 1 Axes>"
            ]
          },
          "metadata": {
            "needs_background": "light"
          },
          "output_type": "display_data"
        },
        {
          "data": {
            "image/png": "[encoded data removed]",
            "text/plain": [
              "<Figure size 432x288 with 1 Axes>"
            ]
          },
          "metadata": {
            "needs_background": "light"
          },
          "output_type": "display_data"
        }
      ],
      "source": [
        "# Evaluate the model using test dataset. - Show performance\n",
        "fig, loss_ax = plt.subplots()\n",
        "fig, acc_ax = plt.subplots()\n",
        "\n",
        "loss_ax.plot(history.history['loss'], 'ro', label=\"TrainLoss\")\n",
        "loss_ax.plot(history.history['val_loss'], 'r:', label=\"ValidaionLoss\")\n",
        "loss_ax.set_xlabel('epoch')\n",
        "loss_ax.set_ylabel('loss')\n",
        "loss_ax.legend(loc='upper left')\n",
        "\n",
        "\n",
        "acc_ax.plot(history.history['accuracy'], 'bo', label=\"TrainAccuracy\")\n",
        "acc_ax.plot(history.history['val_accuracy'], 'b:', label=\"ValidationAccuracy\")\n",
        "acc_ax.set_xlabel('epoch')\n",
        "acc_ax.set_ylabel('loss')\n",
        "acc_ax.legend(loc='upper left')\n"
      ]
    },
    {
      "cell_type": "code",
      "execution_count": null,
      "metadata": {},
      "outputs": [],
      "source": [
        "# Precict the label of digit images in our test dataset\n",
        "predictions = model.predict(testImages)\n",
        "\n",
        "# Plot the first 25 test images and their predicted label\n",
        "show_sample(testImages, [\"Predicted : %d\" % np.argmax(result) for result in predictions])"
      ]
    },
    {
      "cell_type": "code",
      "execution_count": null,
      "metadata": {},
      "outputs": [
        {
          "name": "stdout",
          "output_type": "stream",
          "text": [
            "Number is  3\n"
          ]
        },
        {
          "data": {
            "image/png": "[encoded data removed]",
            "text/plain": [
              "<Figure size 432x288 with 1 Axes>"
            ]
          },
          "metadata": {
            "needs_background": "light"
          },
          "output_type": "display_data"
        }
      ],
      "source": [
        "digit = 3532\n",
        "selected_digit = digit - 1\n",
        "\n",
        "result = predictions[selected_digit]\n",
        "result_number = np.argmax(result)\n",
        "print('Number is %2d' % result_number)\n",
        "show_digit_image(testImages[selected_digit])"
      ]
    },
    {
      "cell_type": "code",
      "execution_count": null,
      "metadata": {},
      "outputs": [],
      "source": []
    }
  ],
  "metadata": {
    "colab": {
      "name": "theBasicDeepLearing.ipynb",
      "provenance": []
    },
    "kernelspec": {
      "display_name": "Python 3",
      "name": "python3"
    },
    "language_info": {
      "codemirror_mode": {
        "name": "ipython",
        "version": 3
      },
      "file_extension": ".py",
      "mimetype": "text/x-python",
      "name": "python",
      "nbconvert_exporter": "python",
      "pygments_lexer": "ipython3",
      "version": "3.8.12"
    }
  },
  "nbformat": 4,
  "nbformat_minor": 0
}
